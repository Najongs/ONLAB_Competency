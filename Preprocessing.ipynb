{
 "cells": [
  {
   "cell_type": "code",
   "execution_count": 1,
   "metadata": {},
   "outputs": [],
   "source": [
    "# !pip install matplotlib\n",
    "# !pip install pandas\n",
    "# !pip install numpy\n",
    "# !pip install openpyxl"
   ]
  },
  {
   "cell_type": "code",
   "execution_count": 2,
   "metadata": {},
   "outputs": [],
   "source": [
    "# 자기소개서 데이터 RAW와 label 분리 (다중 분류 임)\n",
    "# 점수 구현은 따로 구현(GPT로 post-processing)"
   ]
  },
  {
   "cell_type": "code",
   "execution_count": 3,
   "metadata": {},
   "outputs": [
    {
     "name": "stderr",
     "output_type": "stream",
     "text": [
      "/home/najo/.conda/envs/test_20240708/lib/python3.10/site-packages/tqdm/auto.py:21: TqdmWarning: IProgress not found. Please update jupyter and ipywidgets. See https://ipywidgets.readthedocs.io/en/stable/user_install.html\n",
      "  from .autonotebook import tqdm as notebook_tqdm\n"
     ]
    }
   ],
   "source": [
    "import os\n",
    "import re\n",
    "import json\n",
    "from tqdm import tqdm\n",
    "\n",
    "import pandas as pd\n",
    "import numpy as np\n",
    "\n",
    "from collections import Counter\n",
    "import matplotlib.pyplot as plt\n",
    "\n",
    "import torch\n",
    "import torch.nn as nn\n",
    "from transformers import AdamW\n",
    "from torch.utils.data import Dataset, DataLoader\n",
    "from transformers import AutoTokenizer, AutoModelForSequenceClassification\n",
    "\n",
    "from sklearn.metrics import accuracy_score\n"
   ]
  },
  {
   "cell_type": "code",
   "execution_count": 4,
   "metadata": {},
   "outputs": [
    {
     "name": "stdout",
     "output_type": "stream",
     "text": [
      "Device: cuda\n",
      "Current cuda device: 0\n",
      "Count of using GPUs: 3\n"
     ]
    }
   ],
   "source": [
    "os.environ[\"CUDA_DEVICE_ORDER\"]=\"PCI_BUS_ID\"  # Arrange GPU devices starting from 0\n",
    "os.environ[\"CUDA_VISIBLE_DEVICES\"]= \"0, 1, 2\"  # Set the GPUs 2 and 3 to use\n",
    "\n",
    "device = torch.device(\"cuda\" if torch.cuda.is_available() else \"cpu\")\n",
    "print('Device:', device)\n",
    "print('Current cuda device:', torch.cuda.current_device())\n",
    "print('Count of using GPUs:', torch.cuda.device_count())\n",
    "\n",
    "torch.cuda.manual_seed_all(42)"
   ]
  },
  {
   "cell_type": "code",
   "execution_count": 5,
   "metadata": {},
   "outputs": [
    {
     "name": "stderr",
     "output_type": "stream",
     "text": [
      "  4%|▍         | 227/6011 [00:00<00:05, 1129.92it/s]"
     ]
    },
    {
     "name": "stderr",
     "output_type": "stream",
     "text": [
      "100%|██████████| 6011/6011 [00:10<00:00, 562.09it/s]"
     ]
    },
    {
     "name": "stdout",
     "output_type": "stream",
     "text": [
      "                                                raw_text class\n",
      "0      아버지에게서 배운 성실성과 소통 능력\\n\\n평소 꾸준함과 성실함을 강조하시던 부모님...    13\n",
      "1      저는 루틴이 가진 강력한 힘을 알고 이용할 줄 압니다 루틴이란 규칙적으로하는 일의 ...    16\n",
      "2      저는 루틴이 가진 강력한 힘을 알고 이용할 줄 압니다 루틴이란 규칙적으로하는 일의 ...    13\n",
      "3      저는 루틴이 가진 강력한 힘을 알고 이용할 줄 압니다 루틴이란 규칙적으로하는 일의 ...    17\n",
      "4      코로나 사태로 세계 경제 시장은 더욱 악화되고 있지만 국내 생산거점을 기반으로 내실...    14\n",
      "...                                                  ...   ...\n",
      "16655  저는 기업 니즈를 기반으로 한 영업을 통해 6개 기업을 설득했습니다 대학생 동아리 ...     6\n",
      "16656  저는 기업 니즈를 기반으로 한 영업을 통해 6개 기업을 설득했습니다 대학생 동아리 ...    13\n",
      "16657  저는 기업 니즈를 기반으로 한 영업을 통해 6개 기업을 설득했습니다 대학생 동아리 ...    15\n",
      "16658  영업은 고객과 같이 성장하는 직무입니다 고객의 성공이 관계 유지를 가져오기 때문입니...    14\n",
      "16659  세계적으로 선진국들은 점차 환경규제를 강화하고 있는 추세이며 유럽연합에서는 이미 상...    14\n",
      "\n",
      "[16660 rows x 2 columns]\n"
     ]
    },
    {
     "name": "stderr",
     "output_type": "stream",
     "text": [
      "\n"
     ]
    }
   ],
   "source": [
    "# 파일 불러오고 df에 저장(raw_text 특수문자 제거)\n",
    "\n",
    "file_path = \"/home/najo/NAS/ONLAB/ONLAB_Competency/2024-10-15\"\n",
    "file_name = [f for f in os.listdir(file_path) if f.endswith('.json')]\n",
    "\n",
    "df = pd.DataFrame(columns=['raw_text', 'class'])\n",
    "\n",
    "count = 0\n",
    "for i in tqdm(file_name):\n",
    "    with open(os.path.join(file_path, i), 'r', encoding='utf-8') as file:  # Use 'r' mode for reading text files\n",
    "        data = json.load(file)\n",
    "        \n",
    "        for idx in data['anno_text_data']['data']:\n",
    "            n_class = list(filter(None, idx['class'].split(\",\")))\n",
    "            for n in n_class:\n",
    "                # df.loc[count, 'count'] = count\n",
    "                df.loc[count, 'raw_text'] = re.sub(r\"[^\\uAC00-\\uD7A30-9a-zA-Z\\s]\", \"\", idx['raw'])\n",
    "                df.loc[count, 'class'] = n\n",
    "                count += 1\n",
    "\n",
    "print(df)\n"
   ]
  },
  {
   "cell_type": "code",
   "execution_count": 6,
   "metadata": {},
   "outputs": [
    {
     "data": {
      "text/plain": [
       "class\n",
       "6     2024\n",
       "11    1867\n",
       "14    1568\n",
       "17    1398\n",
       "12    1008\n",
       "5     1000\n",
       "15     998\n",
       "16     990\n",
       "7      934\n",
       "13     784\n",
       "10     761\n",
       "2      652\n",
       "3      579\n",
       "4      494\n",
       "1      370\n",
       "20     345\n",
       "18     218\n",
       "8      206\n",
       "9      201\n",
       "19     134\n",
       "21     129\n",
       "Name: count, dtype: int64"
      ]
     },
     "execution_count": 6,
     "metadata": {},
     "output_type": "execute_result"
    }
   ],
   "source": [
    "df['class'].value_counts()"
   ]
  },
  {
   "cell_type": "code",
   "execution_count": 7,
   "metadata": {},
   "outputs": [
    {
     "name": "stdout",
     "output_type": "stream",
     "text": [
      "raw_text     object\n",
      "class       float64\n",
      "dtype: object\n"
     ]
    }
   ],
   "source": [
    "df['raw_text'] = df['raw_text'].astype(str)\n",
    "df['class'] = df['class'].astype(float)\n",
    "print(df.dtypes)"
   ]
  },
  {
   "cell_type": "code",
   "execution_count": 8,
   "metadata": {},
   "outputs": [
    {
     "name": "stderr",
     "output_type": "stream",
     "text": [
      "/home/najo/.conda/envs/test_20240708/lib/python3.10/site-packages/transformers/tokenization_utils_base.py:1601: FutureWarning: `clean_up_tokenization_spaces` was not set. It will be set to `True` by default. This behavior will be depracted in transformers v4.45, and will be then set to `False` by default. For more details check this issue: https://github.com/huggingface/transformers/issues/31884\n",
      "  warnings.warn(\n",
      "Some weights of ElectraForSequenceClassification were not initialized from the model checkpoint at monologg/koelectra-small-v3-discriminator and are newly initialized: ['classifier.dense.bias', 'classifier.dense.weight', 'classifier.out_proj.bias', 'classifier.out_proj.weight']\n",
      "You should probably TRAIN this model on a down-stream task to be able to use it for predictions and inference.\n"
     ]
    }
   ],
   "source": [
    "# TinyBERT 모델과 토크나이저 로드\n",
    "model_name = \"monologg/koelectra-small-v3-discriminator\"\n",
    "tokenizer = AutoTokenizer.from_pretrained(model_name)\n",
    "model = AutoModelForSequenceClassification.from_pretrained(model_name, num_labels=22)  # 레이블 3개로 설정"
   ]
  },
  {
   "cell_type": "code",
   "execution_count": 9,
   "metadata": {},
   "outputs": [],
   "source": [
    "class CustomDataset(Dataset):\n",
    "    def __init__(self, data, tokenizer, max_len):\n",
    "        self.data = data\n",
    "        self.tokenizer = tokenizer\n",
    "        self.max_len = max_len\n",
    "\n",
    "    def __len__(self):\n",
    "        return len(self.data)\n",
    "\n",
    "    def __getitem__(self, index):\n",
    "        text = self.data.iloc[index, 0]\n",
    "        label = self.data.iloc[index, 1]\n",
    "        encoding = self.tokenizer.encode_plus(\n",
    "            text,\n",
    "            add_special_tokens=True,\n",
    "            max_length=self.max_len,\n",
    "            padding='max_length',\n",
    "            truncation=True,\n",
    "            return_attention_mask=True,\n",
    "            return_tensors='pt'\n",
    "        )\n",
    "        return {\n",
    "            'input_ids': encoding['input_ids'].flatten(),\n",
    "            'attention_mask': encoding['attention_mask'].flatten(),\n",
    "            'labels': torch.tensor(label, dtype=torch.long)\n",
    "        }\n",
    "\n",
    "max_len = 128\n",
    "train_dataset = CustomDataset(df, tokenizer, max_len)\n"
   ]
  },
  {
   "cell_type": "code",
   "execution_count": 10,
   "metadata": {},
   "outputs": [
    {
     "data": {
      "text/plain": [
       "{'input_ids': tensor([    2,  6734,  4073,  4325,  4129, 11776, 10944,  4028,  4047,  7891,\n",
       "          6633,  7800,  7939,  4418,  4047, 10944,  4418,  4292,  6575, 29365,\n",
       "          4820,  6983,  4660,  4112,  3288,  4070,  4153,  4286,  4303,  6484,\n",
       "          4007,  2411,  4031,  4110,  6908,  5240,  4576,  6216,  6734,  5253,\n",
       "         28893,  3278,  4073,  4325,  7118, 10981,  4292,  7200,  4279,  5240,\n",
       "          4219,  3278,  4034,  7561,  7197,    25,  4075,  4556,  6406,  8281,\n",
       "         10547,  3280,  6223,  7465,  7118,  6506,  4292,  3755,  4737,  4576,\n",
       "          6216,  3240,  4110,  6260,  3278,  4034, 10944,  4028,  4047,  7891,\n",
       "          4361,  4292, 16158,  2967,  3249,  4480,  4576,  6216,     3,     0,\n",
       "             0,     0,     0,     0,     0,     0,     0,     0,     0,     0,\n",
       "             0,     0,     0,     0,     0,     0,     0,     0,     0,     0,\n",
       "             0,     0,     0,     0,     0,     0,     0,     0,     0,     0,\n",
       "             0,     0,     0,     0,     0,     0,     0,     0]),\n",
       " 'attention_mask': tensor([1, 1, 1, 1, 1, 1, 1, 1, 1, 1, 1, 1, 1, 1, 1, 1, 1, 1, 1, 1, 1, 1, 1, 1,\n",
       "         1, 1, 1, 1, 1, 1, 1, 1, 1, 1, 1, 1, 1, 1, 1, 1, 1, 1, 1, 1, 1, 1, 1, 1,\n",
       "         1, 1, 1, 1, 1, 1, 1, 1, 1, 1, 1, 1, 1, 1, 1, 1, 1, 1, 1, 1, 1, 1, 1, 1,\n",
       "         1, 1, 1, 1, 1, 1, 1, 1, 1, 1, 1, 1, 1, 1, 1, 1, 1, 0, 0, 0, 0, 0, 0, 0,\n",
       "         0, 0, 0, 0, 0, 0, 0, 0, 0, 0, 0, 0, 0, 0, 0, 0, 0, 0, 0, 0, 0, 0, 0, 0,\n",
       "         0, 0, 0, 0, 0, 0, 0, 0]),\n",
       " 'labels': tensor(13)}"
      ]
     },
     "execution_count": 10,
     "metadata": {},
     "output_type": "execute_result"
    }
   ],
   "source": [
    "next(iter(train_dataset))"
   ]
  },
  {
   "cell_type": "code",
   "execution_count": 11,
   "metadata": {},
   "outputs": [
    {
     "name": "stderr",
     "output_type": "stream",
     "text": [
      "/home/najo/.conda/envs/test_20240708/lib/python3.10/site-packages/transformers/optimization.py:591: FutureWarning: This implementation of AdamW is deprecated and will be removed in a future version. Use the PyTorch implementation torch.optim.AdamW instead, or set `no_deprecation_warning=True` to disable this warning\n",
      "  warnings.warn(\n",
      "/home/najo/.conda/envs/test_20240708/lib/python3.10/site-packages/torch/nn/parallel/_functions.py:68: UserWarning: Was asked to gather along dimension 0, but all input tensors were scalars; will instead unsqueeze and return a vector.\n",
      "  warnings.warn('Was asked to gather along dimension 0, but all '\n"
     ]
    },
    {
     "name": "stdout",
     "output_type": "stream",
     "text": [
      "Epoch 1/100, Loss: 3.0088208595304997\n",
      "Model saved as /home/najo/NAS/ONLAB/ONLAB_Competency/Saved_model/model_loss_3.00882.pth\n",
      "Epoch 2/100, Loss: 2.8657206469819747\n",
      "Model saved as /home/najo/NAS/ONLAB/ONLAB_Competency/Saved_model/model_loss_2.86572.pth\n",
      "Epoch 3/100, Loss: 2.7533478463879066\n",
      "Model saved as /home/najo/NAS/ONLAB/ONLAB_Competency/Saved_model/model_loss_2.75335.pth\n",
      "Epoch 4/100, Loss: 2.657776341183495\n",
      "Model saved as /home/najo/NAS/ONLAB/ONLAB_Competency/Saved_model/model_loss_2.65778.pth\n",
      "Epoch 5/100, Loss: 2.5866872117719577\n",
      "Model saved as /home/najo/NAS/ONLAB/ONLAB_Competency/Saved_model/model_loss_2.58669.pth\n",
      "Epoch 6/100, Loss: 2.529079186097356\n",
      "Model saved as /home/najo/NAS/ONLAB/ONLAB_Competency/Saved_model/model_loss_2.52908.pth\n",
      "Epoch 7/100, Loss: 2.469521251343589\n",
      "Model saved as /home/najo/NAS/ONLAB/ONLAB_Competency/Saved_model/model_loss_2.46952.pth\n",
      "Epoch 8/100, Loss: 2.4346929670290183\n",
      "Model saved as /home/najo/NAS/ONLAB/ONLAB_Competency/Saved_model/model_loss_2.43469.pth\n",
      "Epoch 9/100, Loss: 2.3964044265164675\n",
      "Model saved as /home/najo/NAS/ONLAB/ONLAB_Competency/Saved_model/model_loss_2.39640.pth\n",
      "Epoch 10/100, Loss: 2.357742340510128\n",
      "Model saved as /home/najo/NAS/ONLAB/ONLAB_Competency/Saved_model/model_loss_2.35774.pth\n",
      "Epoch 11/100, Loss: 2.3304120129301347\n",
      "Model saved as /home/najo/NAS/ONLAB/ONLAB_Competency/Saved_model/model_loss_2.33041.pth\n",
      "Epoch 12/100, Loss: 2.3047910519228636\n",
      "Model saved as /home/najo/NAS/ONLAB/ONLAB_Competency/Saved_model/model_loss_2.30479.pth\n",
      "Epoch 13/100, Loss: 2.2747071062335533\n",
      "Model saved as /home/najo/NAS/ONLAB/ONLAB_Competency/Saved_model/model_loss_2.27471.pth\n",
      "Epoch 14/100, Loss: 2.243464753827976\n",
      "Model saved as /home/najo/NAS/ONLAB/ONLAB_Competency/Saved_model/model_loss_2.24346.pth\n",
      "Epoch 15/100, Loss: 2.2238048151249195\n",
      "Model saved as /home/najo/NAS/ONLAB/ONLAB_Competency/Saved_model/model_loss_2.22380.pth\n",
      "Epoch 16/100, Loss: 2.199189085996788\n",
      "Model saved as /home/najo/NAS/ONLAB/ONLAB_Competency/Saved_model/model_loss_2.19919.pth\n",
      "Epoch 17/100, Loss: 2.1748246027313116\n",
      "Model saved as /home/najo/NAS/ONLAB/ONLAB_Competency/Saved_model/model_loss_2.17482.pth\n",
      "Epoch 18/100, Loss: 2.15510658453439\n",
      "Model saved as /home/najo/NAS/ONLAB/ONLAB_Competency/Saved_model/model_loss_2.15511.pth\n",
      "Epoch 19/100, Loss: 2.1326905534467624\n",
      "Model saved as /home/najo/NAS/ONLAB/ONLAB_Competency/Saved_model/model_loss_2.13269.pth\n",
      "Epoch 20/100, Loss: 2.119426700905079\n",
      "Model saved as /home/najo/NAS/ONLAB/ONLAB_Competency/Saved_model/model_loss_2.11943.pth\n",
      "Epoch 21/100, Loss: 2.0880868007208555\n",
      "Model saved as /home/najo/NAS/ONLAB/ONLAB_Competency/Saved_model/model_loss_2.08809.pth\n",
      "Epoch 22/100, Loss: 2.0739470538292224\n",
      "Model saved as /home/najo/NAS/ONLAB/ONLAB_Competency/Saved_model/model_loss_2.07395.pth\n",
      "Epoch 23/100, Loss: 2.065404335961087\n",
      "Model saved as /home/najo/NAS/ONLAB/ONLAB_Competency/Saved_model/model_loss_2.06540.pth\n",
      "Epoch 24/100, Loss: 2.0438050695958028\n",
      "Model saved as /home/najo/NAS/ONLAB/ONLAB_Competency/Saved_model/model_loss_2.04381.pth\n",
      "Epoch 25/100, Loss: 2.023680959039062\n",
      "Model saved as /home/najo/NAS/ONLAB/ONLAB_Competency/Saved_model/model_loss_2.02368.pth\n",
      "Epoch 26/100, Loss: 2.0112340304687732\n",
      "Model saved as /home/najo/NAS/ONLAB/ONLAB_Competency/Saved_model/model_loss_2.01123.pth\n",
      "Epoch 27/100, Loss: 1.9960382740006193\n",
      "Model saved as /home/najo/NAS/ONLAB/ONLAB_Competency/Saved_model/model_loss_1.99604.pth\n",
      "Epoch 28/100, Loss: 1.9782325420670837\n",
      "Model saved as /home/najo/NAS/ONLAB/ONLAB_Competency/Saved_model/model_loss_1.97823.pth\n",
      "Epoch 29/100, Loss: 1.9541803825902575\n",
      "Model saved as /home/najo/NAS/ONLAB/ONLAB_Competency/Saved_model/model_loss_1.95418.pth\n",
      "Epoch 30/100, Loss: 1.9457047777321503\n",
      "Model saved as /home/najo/NAS/ONLAB/ONLAB_Competency/Saved_model/model_loss_1.94570.pth\n",
      "Epoch 31/100, Loss: 1.9292559978616146\n",
      "Model saved as /home/najo/NAS/ONLAB/ONLAB_Competency/Saved_model/model_loss_1.92926.pth\n",
      "Epoch 32/100, Loss: 1.9219724267493679\n",
      "Model saved as /home/najo/NAS/ONLAB/ONLAB_Competency/Saved_model/model_loss_1.92197.pth\n",
      "Epoch 33/100, Loss: 1.9073212146759033\n",
      "Model saved as /home/najo/NAS/ONLAB/ONLAB_Competency/Saved_model/model_loss_1.90732.pth\n",
      "Epoch 34/100, Loss: 1.8918250016583742\n",
      "Model saved as /home/najo/NAS/ONLAB/ONLAB_Competency/Saved_model/model_loss_1.89183.pth\n",
      "Epoch 35/100, Loss: 1.8771103538629663\n",
      "Model saved as /home/najo/NAS/ONLAB/ONLAB_Competency/Saved_model/model_loss_1.87711.pth\n",
      "Epoch 36/100, Loss: 1.8638243411333506\n",
      "Model saved as /home/najo/NAS/ONLAB/ONLAB_Competency/Saved_model/model_loss_1.86382.pth\n",
      "Epoch 37/100, Loss: 1.85812143606084\n",
      "Model saved as /home/najo/NAS/ONLAB/ONLAB_Competency/Saved_model/model_loss_1.85812.pth\n",
      "Epoch 38/100, Loss: 1.8385360741433296\n",
      "Model saved as /home/najo/NAS/ONLAB/ONLAB_Competency/Saved_model/model_loss_1.83854.pth\n",
      "Epoch 39/100, Loss: 1.828253642293333\n",
      "Model saved as /home/najo/NAS/ONLAB/ONLAB_Competency/Saved_model/model_loss_1.82825.pth\n",
      "Epoch 40/100, Loss: 1.8153331734751927\n",
      "Model saved as /home/najo/NAS/ONLAB/ONLAB_Competency/Saved_model/model_loss_1.81533.pth\n",
      "Epoch 41/100, Loss: 1.8034933678066458\n",
      "Model saved as /home/najo/NAS/ONLAB/ONLAB_Competency/Saved_model/model_loss_1.80349.pth\n",
      "Epoch 42/100, Loss: 1.8007990021742026\n",
      "Model saved as /home/najo/NAS/ONLAB/ONLAB_Competency/Saved_model/model_loss_1.80080.pth\n",
      "Epoch 43/100, Loss: 1.7789154653330796\n",
      "Model saved as /home/najo/NAS/ONLAB/ONLAB_Competency/Saved_model/model_loss_1.77892.pth\n",
      "Epoch 44/100, Loss: 1.7790904436402648\n",
      "Epoch 45/100, Loss: 1.7628753103372705\n",
      "Model saved as /home/najo/NAS/ONLAB/ONLAB_Competency/Saved_model/model_loss_1.76288.pth\n",
      "Epoch 46/100, Loss: 1.7447367369673634\n",
      "Model saved as /home/najo/NAS/ONLAB/ONLAB_Competency/Saved_model/model_loss_1.74474.pth\n",
      "Epoch 47/100, Loss: 1.744101026585994\n",
      "Model saved as /home/najo/NAS/ONLAB/ONLAB_Competency/Saved_model/model_loss_1.74410.pth\n",
      "Epoch 48/100, Loss: 1.7292386129612232\n",
      "Model saved as /home/najo/NAS/ONLAB/ONLAB_Competency/Saved_model/model_loss_1.72924.pth\n",
      "Epoch 49/100, Loss: 1.7168709594784801\n",
      "Model saved as /home/najo/NAS/ONLAB/ONLAB_Competency/Saved_model/model_loss_1.71687.pth\n",
      "Epoch 50/100, Loss: 1.708286390049767\n",
      "Model saved as /home/najo/NAS/ONLAB/ONLAB_Competency/Saved_model/model_loss_1.70829.pth\n",
      "Epoch 51/100, Loss: 1.6880120685082356\n",
      "Model saved as /home/najo/NAS/ONLAB/ONLAB_Competency/Saved_model/model_loss_1.68801.pth\n",
      "Epoch 52/100, Loss: 1.681776007623163\n",
      "Model saved as /home/najo/NAS/ONLAB/ONLAB_Competency/Saved_model/model_loss_1.68178.pth\n",
      "Epoch 53/100, Loss: 1.6746599519525776\n",
      "Model saved as /home/najo/NAS/ONLAB/ONLAB_Competency/Saved_model/model_loss_1.67466.pth\n",
      "Epoch 54/100, Loss: 1.660353628733686\n",
      "Model saved as /home/najo/NAS/ONLAB/ONLAB_Competency/Saved_model/model_loss_1.66035.pth\n",
      "Epoch 55/100, Loss: 1.6542511250226553\n",
      "Model saved as /home/najo/NAS/ONLAB/ONLAB_Competency/Saved_model/model_loss_1.65425.pth\n",
      "Epoch 56/100, Loss: 1.6500505363668194\n",
      "Model saved as /home/najo/NAS/ONLAB/ONLAB_Competency/Saved_model/model_loss_1.65005.pth\n",
      "Epoch 57/100, Loss: 1.63343092412439\n",
      "Model saved as /home/najo/NAS/ONLAB/ONLAB_Competency/Saved_model/model_loss_1.63343.pth\n",
      "Epoch 58/100, Loss: 1.6226157778092014\n",
      "Model saved as /home/najo/NAS/ONLAB/ONLAB_Competency/Saved_model/model_loss_1.62262.pth\n",
      "Epoch 59/100, Loss: 1.617655260872295\n",
      "Model saved as /home/najo/NAS/ONLAB/ONLAB_Competency/Saved_model/model_loss_1.61766.pth\n",
      "Epoch 60/100, Loss: 1.6074652726413639\n",
      "Model saved as /home/najo/NAS/ONLAB/ONLAB_Competency/Saved_model/model_loss_1.60747.pth\n",
      "Epoch 61/100, Loss: 1.5999529825822087\n",
      "Model saved as /home/najo/NAS/ONLAB/ONLAB_Competency/Saved_model/model_loss_1.59995.pth\n",
      "Epoch 62/100, Loss: 1.5851377831160567\n",
      "Model saved as /home/najo/NAS/ONLAB/ONLAB_Competency/Saved_model/model_loss_1.58514.pth\n",
      "Epoch 63/100, Loss: 1.5733298199777386\n",
      "Model saved as /home/najo/NAS/ONLAB/ONLAB_Competency/Saved_model/model_loss_1.57333.pth\n",
      "Epoch 64/100, Loss: 1.5705695343381576\n",
      "Model saved as /home/najo/NAS/ONLAB/ONLAB_Competency/Saved_model/model_loss_1.57057.pth\n",
      "Epoch 65/100, Loss: 1.5641203263333736\n",
      "Model saved as /home/najo/NAS/ONLAB/ONLAB_Competency/Saved_model/model_loss_1.56412.pth\n",
      "Epoch 66/100, Loss: 1.552483782513451\n",
      "Model saved as /home/najo/NAS/ONLAB/ONLAB_Competency/Saved_model/model_loss_1.55248.pth\n",
      "Epoch 67/100, Loss: 1.5544588047129508\n",
      "Epoch 68/100, Loss: 1.5385299902835876\n",
      "Model saved as /home/najo/NAS/ONLAB/ONLAB_Competency/Saved_model/model_loss_1.53853.pth\n",
      "Epoch 69/100, Loss: 1.5335475861571217\n",
      "Model saved as /home/najo/NAS/ONLAB/ONLAB_Competency/Saved_model/model_loss_1.53355.pth\n",
      "Epoch 70/100, Loss: 1.524328937967315\n",
      "Model saved as /home/najo/NAS/ONLAB/ONLAB_Competency/Saved_model/model_loss_1.52433.pth\n",
      "Epoch 71/100, Loss: 1.5249327830685915\n",
      "Epoch 72/100, Loss: 1.506367860859587\n",
      "Model saved as /home/najo/NAS/ONLAB/ONLAB_Competency/Saved_model/model_loss_1.50637.pth\n",
      "Epoch 73/100, Loss: 1.5130433108060415\n",
      "Epoch 74/100, Loss: 1.4953180988326327\n",
      "Model saved as /home/najo/NAS/ONLAB/ONLAB_Competency/Saved_model/model_loss_1.49532.pth\n",
      "Epoch 75/100, Loss: 1.489662416108692\n",
      "Model saved as /home/najo/NAS/ONLAB/ONLAB_Competency/Saved_model/model_loss_1.48966.pth\n",
      "Epoch 76/100, Loss: 1.4766572841251169\n",
      "Model saved as /home/najo/NAS/ONLAB/ONLAB_Competency/Saved_model/model_loss_1.47666.pth\n",
      "Epoch 77/100, Loss: 1.4785845643691433\n",
      "Epoch 78/100, Loss: 1.471489612382787\n",
      "Model saved as /home/najo/NAS/ONLAB/ONLAB_Competency/Saved_model/model_loss_1.47149.pth\n",
      "Epoch 79/100, Loss: 1.4532758607209184\n",
      "Model saved as /home/najo/NAS/ONLAB/ONLAB_Competency/Saved_model/model_loss_1.45328.pth\n",
      "Epoch 80/100, Loss: 1.44936127608059\n",
      "Model saved as /home/najo/NAS/ONLAB/ONLAB_Competency/Saved_model/model_loss_1.44936.pth\n",
      "Epoch 81/100, Loss: 1.4474666701018355\n",
      "Model saved as /home/najo/NAS/ONLAB/ONLAB_Competency/Saved_model/model_loss_1.44747.pth\n",
      "Epoch 82/100, Loss: 1.437746522990802\n",
      "Model saved as /home/najo/NAS/ONLAB/ONLAB_Competency/Saved_model/model_loss_1.43775.pth\n",
      "Epoch 83/100, Loss: 1.4407010269529037\n",
      "Epoch 84/100, Loss: 1.4329932627787116\n",
      "Model saved as /home/najo/NAS/ONLAB/ONLAB_Competency/Saved_model/model_loss_1.43299.pth\n",
      "Epoch 85/100, Loss: 1.4273332748704284\n",
      "Model saved as /home/najo/NAS/ONLAB/ONLAB_Competency/Saved_model/model_loss_1.42733.pth\n",
      "Epoch 86/100, Loss: 1.4236077616232952\n",
      "Model saved as /home/najo/NAS/ONLAB/ONLAB_Competency/Saved_model/model_loss_1.42361.pth\n",
      "Epoch 87/100, Loss: 1.415429569382704\n",
      "Model saved as /home/najo/NAS/ONLAB/ONLAB_Competency/Saved_model/model_loss_1.41543.pth\n",
      "Epoch 88/100, Loss: 1.4023852321027799\n",
      "Model saved as /home/najo/NAS/ONLAB/ONLAB_Competency/Saved_model/model_loss_1.40239.pth\n",
      "Epoch 89/100, Loss: 1.4052789293172705\n",
      "Epoch 90/100, Loss: 1.4021164934143766\n",
      "Model saved as /home/najo/NAS/ONLAB/ONLAB_Competency/Saved_model/model_loss_1.40212.pth\n",
      "Epoch 91/100, Loss: 1.3924866641750773\n",
      "Model saved as /home/najo/NAS/ONLAB/ONLAB_Competency/Saved_model/model_loss_1.39249.pth\n",
      "Epoch 92/100, Loss: 1.3827074729759274\n",
      "Model saved as /home/najo/NAS/ONLAB/ONLAB_Competency/Saved_model/model_loss_1.38271.pth\n",
      "Epoch 93/100, Loss: 1.3803819417953491\n",
      "Model saved as /home/najo/NAS/ONLAB/ONLAB_Competency/Saved_model/model_loss_1.38038.pth\n",
      "Epoch 94/100, Loss: 1.3725679357543246\n",
      "Model saved as /home/najo/NAS/ONLAB/ONLAB_Competency/Saved_model/model_loss_1.37257.pth\n",
      "Epoch 95/100, Loss: 1.3688414870327665\n",
      "Model saved as /home/najo/NAS/ONLAB/ONLAB_Competency/Saved_model/model_loss_1.36884.pth\n",
      "Epoch 96/100, Loss: 1.3653854331897415\n",
      "Model saved as /home/najo/NAS/ONLAB/ONLAB_Competency/Saved_model/model_loss_1.36539.pth\n",
      "Epoch 97/100, Loss: 1.3611785937811582\n",
      "Model saved as /home/najo/NAS/ONLAB/ONLAB_Competency/Saved_model/model_loss_1.36118.pth\n",
      "Epoch 98/100, Loss: 1.3526658411244399\n",
      "Model saved as /home/najo/NAS/ONLAB/ONLAB_Competency/Saved_model/model_loss_1.35267.pth\n",
      "Epoch 99/100, Loss: 1.3442405635163983\n",
      "Model saved as /home/najo/NAS/ONLAB/ONLAB_Competency/Saved_model/model_loss_1.34424.pth\n",
      "Epoch 100/100, Loss: 1.3462077297327173\n"
     ]
    }
   ],
   "source": [
    "# 데이터 로더 설정\n",
    "train_loader = DataLoader(train_dataset, batch_size=128, shuffle=True)\n",
    "\n",
    "# 모델 학습 함수\n",
    "def train_epoch(model, data_loader, optimizer, device):\n",
    "    model = model.train()\n",
    "    total_loss = 0\n",
    "    for batch in data_loader:\n",
    "        optimizer.zero_grad()\n",
    "        \n",
    "        input_ids = batch['input_ids'].to(device)\n",
    "        attention_mask = batch['attention_mask'].to(device)\n",
    "        labels = batch['labels'].to(device)\n",
    "        \n",
    "        # 모델의 출력에서 loss 추출\n",
    "        outputs = model(input_ids=input_ids, attention_mask=attention_mask, labels=labels)\n",
    "        loss = outputs.loss.mean()  # loss 값을 여러 GPU에서 평균\n",
    "        \n",
    "        total_loss += loss.item()\n",
    "        \n",
    "        loss.backward()\n",
    "        optimizer.step()\n",
    "    \n",
    "    return total_loss / len(data_loader)\n",
    "\n",
    "# 모델 저장 함수 (DataParallel 지원)\n",
    "def save_model(model, optimizer, epoch, loss, file_name):\n",
    "    save_path = f\"/home/najo/NAS/ONLAB/ONLAB_Competency/Saved_model/{file_name}.pth\"\n",
    "    \n",
    "    # DataParallel로 감싸져 있는 모델을 저장할 때는 model.module로 접근\n",
    "    if isinstance(model, torch.nn.DataParallel):\n",
    "        model_to_save = model.module\n",
    "    else:\n",
    "        model_to_save = model\n",
    "    \n",
    "    torch.save({\n",
    "        'epoch': epoch,\n",
    "        'model_state_dict': model_to_save.state_dict(),\n",
    "        'optimizer_state_dict': optimizer.state_dict(),\n",
    "        'loss': loss,\n",
    "    }, save_path)\n",
    "    \n",
    "    print(f\"Model saved as {save_path}\")\n",
    "\n",
    "# GPU 설정\n",
    "model = model.to(device)\n",
    "model = nn.DataParallel(model)\n",
    "\n",
    "# 옵티마이저 설정\n",
    "optimizer = AdamW(model.parameters(), lr=2e-5)\n",
    "\n",
    "# 학습 루프\n",
    "epochs = 100\n",
    "best_loss = float('inf')  # 최소 손실을 추적하기 위한 변수\n",
    "for epoch in range(epochs):\n",
    "    train_loss = train_epoch(model, train_loader, optimizer, device)\n",
    "    print(f\"Epoch {epoch + 1}/{epochs}, Loss: {train_loss}\")\n",
    "\n",
    "    # 손실이 이전 손실보다 작으면 모델 저장\n",
    "    if train_loss < best_loss:\n",
    "        best_loss = train_loss\n",
    "        # 손실 값을 파일명에 포함, 소수점 5자리까지 사용\n",
    "        file_name = f\"model_loss_{best_loss:.5f}\"\n",
    "        save_model(model, optimizer, epoch, best_loss, file_name)\n"
   ]
  },
  {
   "cell_type": "code",
   "execution_count": 14,
   "metadata": {},
   "outputs": [
    {
     "name": "stdout",
     "output_type": "stream",
     "text": [
      "Best model found: model_loss_1.34424.pth with loss 1.34424\n"
     ]
    },
    {
     "name": "stderr",
     "output_type": "stream",
     "text": [
      "/tmp/ipykernel_2725147/2727550360.py:28: FutureWarning: You are using `torch.load` with `weights_only=False` (the current default value), which uses the default pickle module implicitly. It is possible to construct malicious pickle data which will execute arbitrary code during unpickling (See https://github.com/pytorch/pytorch/blob/main/SECURITY.md#untrusted-models for more details). In a future release, the default value for `weights_only` will be flipped to `True`. This limits the functions that could be executed during unpickling. Arbitrary objects will no longer be allowed to be loaded via this mode unless they are explicitly allowlisted by the user via `torch.serialization.add_safe_globals`. We recommend you start setting `weights_only=True` for any use case where you don't have full control of the loaded file. Please open an issue on GitHub for any issues related to this experimental feature.\n",
      "  checkpoint = torch.load(file_path)\n"
     ]
    },
    {
     "name": "stdout",
     "output_type": "stream",
     "text": [
      "Loaded model from /home/najo/NAS/ONLAB/ONLAB_Competency/Saved_model/model_loss_1.34424.pth, Epoch: 98, Loss: 1.34424\n",
      "Validation Accuracy: 0.5061\n"
     ]
    }
   ],
   "source": [
    "import os\n",
    "import torch\n",
    "import re\n",
    "from sklearn.metrics import accuracy_score\n",
    "\n",
    "# 평가 함수\n",
    "def eval_model(model, data_loader, device):\n",
    "    model = model.eval()\n",
    "    predictions, true_labels = [], []\n",
    "    \n",
    "    with torch.no_grad():\n",
    "        for batch in data_loader:\n",
    "            input_ids = batch['input_ids'].to(device)\n",
    "            attention_mask = batch['attention_mask'].to(device)\n",
    "            labels = batch['labels'].to(device)\n",
    "            \n",
    "            outputs = model(input_ids=input_ids, attention_mask=attention_mask)\n",
    "            logits = outputs.logits\n",
    "            \n",
    "            preds = torch.argmax(logits, dim=1)\n",
    "            predictions.extend(preds.cpu().numpy())  # GPU 텐서를 CPU로 이동 후 NumPy로 변환\n",
    "            true_labels.extend(labels.cpu().numpy())  # 레이블도 동일하게 처리\n",
    "    \n",
    "    return accuracy_score(true_labels, predictions)\n",
    "\n",
    "# 저장된 모델 불러오기 함수\n",
    "def load_best_model(model, optimizer, device, file_path):\n",
    "    checkpoint = torch.load(file_path)\n",
    "    \n",
    "    # DataParallel로 감싸진 경우에도 model.module로 저장되었는지 확인\n",
    "    if isinstance(model, torch.nn.DataParallel):\n",
    "        model.module.load_state_dict(checkpoint['model_state_dict'])\n",
    "    else:\n",
    "        model.load_state_dict(checkpoint['model_state_dict'])\n",
    "    \n",
    "    optimizer.load_state_dict(checkpoint['optimizer_state_dict'])\n",
    "    epoch = checkpoint['epoch']\n",
    "    loss = checkpoint['loss']\n",
    "    \n",
    "    model = model.to(device)  # 모델을 다시 GPU로 보냄\n",
    "    print(f\"Loaded model from {file_path}, Epoch: {epoch}, Loss: {loss:.5f}\")\n",
    "    \n",
    "    return model, optimizer\n",
    "\n",
    "# 저장된 모델 파일 중에서 가장 작은 손실 값을 가진 모델 파일을 찾는 함수\n",
    "def find_best_model_file(model_dir):\n",
    "    best_loss = float('inf')\n",
    "    best_model_file = None\n",
    "    \n",
    "    # 모델 파일명을 탐색하고, 손실값이 포함된 파일명을 파싱하여 최소 손실값을 찾음\n",
    "    for file_name in os.listdir(model_dir):\n",
    "        if file_name.endswith(\".pth\"):\n",
    "            # 파일명에서 손실 값을 추출 (예: model_loss_0.12345.pth에서 0.12345 추출)\n",
    "            match = re.search(r'model_loss_([\\d.]+)\\.pth', file_name)\n",
    "            if match:\n",
    "                loss = float(match.group(1))\n",
    "                if loss < best_loss:\n",
    "                    best_loss = loss\n",
    "                    best_model_file = file_name\n",
    "    \n",
    "    if best_model_file:\n",
    "        print(f\"Best model found: {best_model_file} with loss {best_loss:.5f}\")\n",
    "    else:\n",
    "        print(\"No valid model files found.\")\n",
    "    \n",
    "    return best_model_file\n",
    "\n",
    "# 저장된 최적의 모델 불러오기 및 평가\n",
    "def evaluate_best_model(model, optimizer, data_loader, device, model_dir):\n",
    "    best_model_file = find_best_model_file(model_dir)\n",
    "    \n",
    "    if best_model_file:\n",
    "        file_path = os.path.join(model_dir, best_model_file)\n",
    "        model, optimizer = load_best_model(model, optimizer, device, file_path)\n",
    "        \n",
    "        # 모델 평가\n",
    "        val_accuracy = eval_model(model, data_loader, device)\n",
    "        print(f'Validation Accuracy: {val_accuracy:.4f}')\n",
    "    else:\n",
    "        print(\"No model file to evaluate.\")\n",
    "\n",
    "# 검증 데이터 로더로 변경하는 것이 일반적\n",
    "# 여기서는 train_loader 대신 val_loader 또는 test_loader를 사용하는 것이 좋습니다\n",
    "best_model_path = \"/home/najo/NAS/ONLAB/ONLAB_Competency/Saved_model\"\n",
    "\n",
    "# 학습 후 검증 데이터 평가\n",
    "evaluate_best_model(model, optimizer, train_loader, device, best_model_path)  # 평가할 때는 val_loader 사용을 권장\n"
   ]
  },
  {
   "cell_type": "code",
   "execution_count": 18,
   "metadata": {},
   "outputs": [
    {
     "name": "stdout",
     "output_type": "stream",
     "text": [
      "Best model found: model_loss_1.34424.pth with loss 1.34424\n",
      "Loaded model from /home/najo/NAS/ONLAB/ONLAB_Competency/Saved_model/model_loss_1.34424.pth, Epoch: 98, Loss: 1.34424\n"
     ]
    },
    {
     "name": "stderr",
     "output_type": "stream",
     "text": [
      "/tmp/ipykernel_2725147/2727550360.py:28: FutureWarning: You are using `torch.load` with `weights_only=False` (the current default value), which uses the default pickle module implicitly. It is possible to construct malicious pickle data which will execute arbitrary code during unpickling (See https://github.com/pytorch/pytorch/blob/main/SECURITY.md#untrusted-models for more details). In a future release, the default value for `weights_only` will be flipped to `True`. This limits the functions that could be executed during unpickling. Arbitrary objects will no longer be allowed to be loaded via this mode unless they are explicitly allowlisted by the user via `torch.serialization.add_safe_globals`. We recommend you start setting `weights_only=True` for any use case where you don't have full control of the loaded file. Please open an issue on GitHub for any issues related to this experimental feature.\n",
      "  checkpoint = torch.load(file_path)\n"
     ]
    },
    {
     "name": "stdout",
     "output_type": "stream",
     "text": [
      "Predicted Class: 18\n"
     ]
    }
   ],
   "source": [
    "# 새로운 텍스트에 대해 예측 함수 (저장된 모델을 불러와 예측)\n",
    "def predict(text, model, tokenizer, max_len, device, model_dir):\n",
    "    # 가장 낮은 loss 값을 가진 모델 파일 찾기\n",
    "    best_model_file = find_best_model_file(model_dir)\n",
    "    \n",
    "    if best_model_file is None:\n",
    "        raise ValueError(\"No valid model file found.\")\n",
    "    \n",
    "    model_path = os.path.join(model_dir, best_model_file)\n",
    "    \n",
    "    # 모델을 저장된 상태로 불러오기\n",
    "    optimizer = torch.optim.AdamW(model.parameters(), lr=2e-5)  # 옵티마이저 임시 생성\n",
    "    model, optimizer = load_best_model(model, optimizer, device, model_path)\n",
    "\n",
    "    # 입력 텍스트를 토크나이저로 인코딩\n",
    "    encoding = tokenizer.encode_plus(\n",
    "        text,\n",
    "        add_special_tokens=True,\n",
    "        max_length=max_len,\n",
    "        padding='max_length',\n",
    "        truncation=True,\n",
    "        return_attention_mask=True,\n",
    "        return_tensors='pt'\n",
    "    )\n",
    "    \n",
    "    input_ids = encoding['input_ids'].to(device)\n",
    "    attention_mask = encoding['attention_mask'].to(device)\n",
    "    \n",
    "    # 예측\n",
    "    model.eval()\n",
    "    with torch.no_grad():\n",
    "        outputs = model(input_ids=input_ids, attention_mask=attention_mask)\n",
    "        logits = outputs.logits\n",
    "        pred = torch.argmax(logits, dim=1).item()  # 클래스 예측\n",
    "    \n",
    "    return pred\n",
    "\n",
    "# 예측 사용 예시\n",
    "sample_text = \"기재한 역량 및 기술 중 한 가지 이상을 선택하고 그러한 역량 및 기술을 적극적으로 활용했던 경험 또는 이를 습득하기까지의 과정을 기술하여 주십시오.\\n\\n\\\"업무 추진력의 바탕 : 세밀한 기획\\\"\\n\\n인문학 교실을 기획하고 운영하는 프로그램 당시, 일정이 바뀌어 인턴십이 겹치고 하차 인원이 생겨 인력, 시간이 부족했고 이를 극복하기 위해 다음과 같이 행동했습니다.\\n\\n첫째, 진행된 과제 상황을 파악하고 앞으로 해야 할 일과 사용 가능한 시간을 리스트로 만들었습니다. 그리고 우선순위에 따라 시간을 배분한 후 추가적으로 필요한 시간을 확인했습니다.\\n\\n둘째, 불필요한 업무 프로세스를 개선해 부족한 시간을 확보했습니다. 반복되는 자료와 문서는 형상관리를 이용해 재사용할 수 있도록 했습니다.\\n\\n셋째, 또 다른 일정 변동에 대비해 강의자를 2인 1조로 구성했고, 수업을 하는 동안 강의록을 작성해 최종 보고서 작성 시간도 줄일 수 있었습니다.\"\n",
    "re_sample_text = re.sub(r\"[^\\uAC00-\\uD7A30-9a-zA-Z\\s]\", \"\", sample_text)\n",
    "\n",
    "# 저장된 모델 경로를 사용해 예측\n",
    "predicted_class = predict(re_sample_text, model, tokenizer, max_len, device, best_model_path)\n",
    "print(f\"Predicted Class: {predicted_class}\")\n"
   ]
  },
  {
   "cell_type": "code",
   "execution_count": 12,
   "metadata": {},
   "outputs": [
    {
     "name": "stdout",
     "output_type": "stream",
     "text": [
      "Class mention counts (sorted by count):\n",
      "Class 6: 2024\n",
      "Class 11: 1867\n",
      "Class 14: 1568\n",
      "Class 17: 1398\n",
      "Class 12: 1008\n",
      "Class 5: 1000\n",
      "Class 15: 998\n",
      "Class 16: 990\n",
      "Class 7: 934\n",
      "Class 13: 784\n",
      "Class 10: 761\n",
      "Class 2: 652\n",
      "Class 3: 579\n",
      "Class 4: 494\n",
      "Class 1: 370\n",
      "Class 20: 345\n",
      "Class 18: 218\n",
      "Class 8: 206\n",
      "Class 9: 201\n",
      "Class 19: 134\n",
      "Class 21: 129\n",
      "Total number of class mentions: 16660\n"
     ]
    }
   ],
   "source": [
    "index_count = []\n",
    "classes = []\n",
    "\n",
    "# List of classes to exclude\n",
    "exclude_classes = {' ', ''}  # Use a set for faster lookups\n",
    "\n",
    "# Assuming file_name is a list of filenames and file_path is the directory where these files are stored\n",
    "for i in file_name:\n",
    "    with open(os.path.join(file_path, i), 'r', encoding='utf-8') as file:  # Use 'r' mode for reading text files\n",
    "        data = json.load(file)\n",
    "        \n",
    "        # Step 1: Extract class mentions\n",
    "        for entry in data['anno_text_data']['data']:\n",
    "            # Filter out classes that should be excluded\n",
    "            classes.extend([cls for cls in entry['class'].split(',') if cls not in exclude_classes])\n",
    "\n",
    "# Step 2: Count occurrences of each class\n",
    "class_counts = Counter(classes)\n",
    "\n",
    "# Step 3: Calculate the total number of class mentions\n",
    "total_count = sum(class_counts.values())\n",
    "\n",
    "# Step 4: Display the results sorted by count in descending order\n",
    "print(\"Class mention counts (sorted by count):\")\n",
    "for class_id, count in sorted(class_counts.items(), key=lambda item: item[1], reverse=True):\n",
    "    print(f\"Class {class_id}: {count}\")\n",
    "\n",
    "# Print the total sum of all counts\n",
    "print(f\"Total number of class mentions: {total_count}\")\n"
   ]
  },
  {
   "cell_type": "code",
   "execution_count": 13,
   "metadata": {},
   "outputs": [
    {
     "data": {
      "image/png": "[encoded data removed]",
      "text/plain": [
       "<Figure size 1200x800 with 1 Axes>"
      ]
     },
     "metadata": {},
     "output_type": "display_data"
    }
   ],
   "source": [
    "# Sort by count in descending order\n",
    "sorted_class_counts = sorted(class_counts.items(), key=lambda item: item[1], reverse=True)\n",
    "\n",
    "# Extract class IDs and counts for plotting\n",
    "class_ids, counts = zip(*sorted_class_counts)\n",
    "\n",
    "# Plotting the results\n",
    "plt.figure(figsize=(12, 8))\n",
    "plt.bar(class_ids, counts, color='skyblue')\n",
    "plt.xlabel('Class ID')\n",
    "plt.ylabel('Count')\n",
    "plt.title('Class Mention Counts (sorted by count)')\n",
    "plt.xticks(rotation=45)  # Rotate x-axis labels for better readability\n",
    "plt.show()"
   ]
  },
  {
   "cell_type": "code",
   "execution_count": 14,
   "metadata": {},
   "outputs": [
    {
     "name": "stdout",
     "output_type": "stream",
     "text": [
      "                Name  Index\n",
      "0            창의력을 가진      1\n",
      "1         유연한 사고를 가진      2\n",
      "2   데이터 기반의 의사결정을 하는      3\n",
      "3       다양한 의견을 수렴하는      4\n",
      "4        문제해결능력이 뛰어난      5\n",
      "5    탄탄한 의사소통 능력을 가진      6\n",
      "6       선한 영향력을 행사하는      7\n",
      "7          다양성을 존중하는      8\n",
      "8          신뢰를 주는 리더      9\n",
      "9            적응력이 높은     10\n",
      "10     지속적인 성장을 추구하는     11\n",
      "11          비전을 제시하는     12\n",
      "12     고도의 자기주도성을 가진     13\n",
      "13      비즈니스 마인드를 갖춘     14\n",
      "14       고도의 책임감을 가진     15\n",
      "15              적극적인     16\n",
      "16   목표를 달성하는 능력을 갖춘     17\n",
      "17    자원을 효율적으로 활용하는     18\n",
      "18     신속한 의사결정을 내리는     19\n",
      "19       긍정적인 태도를 갖춘     20\n",
      "20  위기 상황에서도 안정감을 주는     21\n"
     ]
    }
   ],
   "source": [
    "index  = pd.read_excel(\"/home/najo/NAS/ONLAB/ONLAB_Competency/keyword-index.xlsx\")\n",
    "\n",
    "print(index)"
   ]
  },
  {
   "cell_type": "code",
   "execution_count": null,
   "metadata": {},
   "outputs": [],
   "source": []
  }
 ],
 "metadata": {
  "kernelspec": {
   "display_name": "test_20240708",
   "language": "python",
   "name": "python3"
  },
  "language_info": {
   "codemirror_mode": {
    "name": "ipython",
    "version": 3
   },
   "file_extension": ".py",
   "mimetype": "text/x-python",
   "name": "python",
   "nbconvert_exporter": "python",
   "pygments_lexer": "ipython3",
   "version": "3.10.14"
  }
 },
 "nbformat": 4,
 "nbformat_minor": 2
}
