{
 "cells": [
  {
   "cell_type": "code",
   "execution_count": 1,
   "metadata": {},
   "outputs": [],
   "source": [
    "# !pip install matplotlib\n",
    "# !pip install pandas\n",
    "# !pip install numpy\n",
    "# !pip install openpyxl"
   ]
  },
  {
   "cell_type": "code",
   "execution_count": 2,
   "metadata": {},
   "outputs": [],
   "source": [
    "# 자기소개서 데이터 RAW와 label 분리 (다중 분류 임)\n",
    "# 점수 구현은 따로 구현(GPT로 post-processing)"
   ]
  },
  {
   "cell_type": "code",
   "execution_count": 3,
   "metadata": {},
   "outputs": [
    {
     "name": "stderr",
     "output_type": "stream",
     "text": [
      "/home/najo/.conda/envs/test_20240708/lib/python3.10/site-packages/tqdm/auto.py:21: TqdmWarning: IProgress not found. Please update jupyter and ipywidgets. See https://ipywidgets.readthedocs.io/en/stable/user_install.html\n",
      "  from .autonotebook import tqdm as notebook_tqdm\n"
     ]
    }
   ],
   "source": [
    "import os\n",
    "import re\n",
    "import json\n",
    "from tqdm import tqdm\n",
    "\n",
    "import pandas as pd\n",
    "import numpy as np\n",
    "\n",
    "from collections import Counter\n",
    "import matplotlib.pyplot as plt\n",
    "\n",
    "import torch\n",
    "import torch.nn as nn\n",
    "from transformers import AdamW\n",
    "from torch.utils.data import Dataset, DataLoader\n",
    "from transformers import AutoTokenizer, AutoModelForSequenceClassification\n",
    "\n",
    "from sklearn.metrics import accuracy_score\n"
   ]
  },
  {
   "cell_type": "code",
   "execution_count": 4,
   "metadata": {},
   "outputs": [
    {
     "name": "stdout",
     "output_type": "stream",
     "text": [
      "Device: cuda\n",
      "Current cuda device: 0\n",
      "Count of using GPUs: 3\n"
     ]
    }
   ],
   "source": [
    "os.environ[\"CUDA_DEVICE_ORDER\"]=\"PCI_BUS_ID\"  # Arrange GPU devices starting from 0\n",
    "os.environ[\"CUDA_VISIBLE_DEVICES\"]= \"0, 1, 2\"  # Set the GPUs 2 and 3 to use\n",
    "\n",
    "device = torch.device(\"cuda\" if torch.cuda.is_available() else \"cpu\")\n",
    "print('Device:', device)\n",
    "print('Current cuda device:', torch.cuda.current_device())\n",
    "print('Count of using GPUs:', torch.cuda.device_count())\n",
    "\n",
    "torch.cuda.manual_seed_all(42)"
   ]
  },
  {
   "cell_type": "code",
   "execution_count": 5,
   "metadata": {},
   "outputs": [
    {
     "name": "stderr",
     "output_type": "stream",
     "text": [
      "  3%|▎         | 186/6011 [00:00<00:03, 1851.90it/s]"
     ]
    },
    {
     "name": "stderr",
     "output_type": "stream",
     "text": [
      "100%|██████████| 6011/6011 [00:04<00:00, 1294.60it/s]"
     ]
    },
    {
     "name": "stdout",
     "output_type": "stream",
     "text": [
      "                                                raw_text  \\\n",
      "1      아버지에게서 배운 성실성과 소통 능력\\n\\n평소 꾸준함과 성실함을 강조하시던 부모님...   \n",
      "4      저는 루틴이 가진 강력한 힘을 알고 이용할 줄 압니다 루틴이란 규칙적으로하는 일의 ...   \n",
      "5      코로나 사태로 세계 경제 시장은 더욱 악화되고 있지만 국내 생산거점을 기반으로 내실...   \n",
      "6      저는 석사과정 중 세라믹 섬유용 전구체 합성 분야의 차별화된 연구 역량을 키우기 위...   \n",
      "7      삼성전기는 스마트폰을 비롯한 주요 IT기기 자동차 부품과 네트워크를 제조하는 고객사...   \n",
      "...                                                  ...   \n",
      "16654   빠르게 변화하는 시대에 앞서는 KMAC의 디지털 고숙련 실무인재 양성에 매력을 느...   \n",
      "16655  설득을 무기로 차와 스페셜티 시장 점령\\n\\n식품은 소비자의 가치관을 가장 잘 반영...   \n",
      "16658  저는 기업 니즈를 기반으로 한 영업을 통해 6개 기업을 설득했습니다 대학생 동아리 ...   \n",
      "16659  영업은 고객과 같이 성장하는 직무입니다 고객의 성공이 관계 유지를 가져오기 때문입니...   \n",
      "16660  세계적으로 선진국들은 점차 환경규제를 강화하고 있는 추세이며 유럽연합에서는 이미 상...   \n",
      "\n",
      "                                                   class  \n",
      "1      [0, 0, 0, 0, 0, 0, 0, 0, 0, 0, 0, 0, 1, 0, 0, ...  \n",
      "4      [0, 0, 0, 0, 0, 0, 0, 0, 0, 0, 0, 0, 1, 0, 0, ...  \n",
      "5      [0, 0, 0, 0, 0, 0, 0, 0, 0, 0, 0, 0, 0, 1, 0, ...  \n",
      "6      [0, 0, 0, 0, 0, 0, 0, 0, 0, 0, 0, 0, 0, 0, 0, ...  \n",
      "7      [0, 0, 0, 0, 0, 0, 0, 0, 0, 0, 0, 0, 0, 1, 0, ...  \n",
      "...                                                  ...  \n",
      "16654  [0, 0, 0, 0, 0, 0, 0, 0, 0, 0, 0, 0, 0, 0, 1, ...  \n",
      "16655  [0, 0, 0, 0, 0, 0, 0, 0, 0, 1, 0, 0, 0, 0, 0, ...  \n",
      "16658  [0, 0, 0, 0, 0, 1, 0, 0, 0, 0, 0, 0, 1, 0, 1, ...  \n",
      "16659  [0, 0, 0, 0, 0, 0, 0, 0, 0, 0, 0, 0, 0, 1, 0, ...  \n",
      "16660  [0, 0, 0, 0, 0, 0, 0, 0, 0, 0, 0, 0, 0, 1, 0, ...  \n",
      "\n",
      "[9024 rows x 2 columns]\n"
     ]
    },
    {
     "name": "stderr",
     "output_type": "stream",
     "text": [
      "\n"
     ]
    }
   ],
   "source": [
    "# 파일 불러오고 df에 저장(raw_text 특수문자 제거)\n",
    "\n",
    "file_path = \"/home/najo/NAS/ONLAB/ONLAB_Competency/2024-10-15\"\n",
    "file_name = [f for f in os.listdir(file_path) if f.endswith('.json')]\n",
    "\n",
    "df = pd.DataFrame(columns=['raw_text', 'class'])\n",
    "\n",
    "# 주어진 레이블을 원-핫 인코딩으로 변환하는 함수\n",
    "def multi_label_to_one_hot(labels, num_classes):\n",
    "    one_hot = np.zeros(num_classes, dtype=int)\n",
    "    for label in labels:\n",
    "        if label < num_classes:  # 레이블이 클래스의 총 개수를 넘지 않도록 확인\n",
    "            one_hot[label - 1] = 1  # 인덱스는 0부터 시작하므로 레이블-1로 변환\n",
    "    return one_hot\n",
    "\n",
    "count = 0\n",
    "for i in tqdm(file_name):\n",
    "    with open(os.path.join(file_path, i), 'r', encoding='utf-8') as file:  # Use 'r' mode for reading text files\n",
    "        data = json.load(file)\n",
    "        \n",
    "        for idx in data['anno_text_data']['data']:\n",
    "            classes = []\n",
    "            n_class = list(filter(None, idx['class'].split(\",\")))\n",
    "            for n in n_class:\n",
    "                count += 1\n",
    "                classes.append(int(n))\n",
    "            one_hot_encoded = multi_label_to_one_hot(classes, 21)\n",
    "            df.loc[count, 'raw_text'] = re.sub(r\"[^\\uAC00-\\uD7A30-9a-zA-Z\\s]\", \"\", idx['raw'])\n",
    "            df.loc[count, 'class'] = one_hot_encoded\n",
    "\n",
    "print(df)\n"
   ]
  },
  {
   "cell_type": "code",
   "execution_count": 6,
   "metadata": {},
   "outputs": [
    {
     "name": "stderr",
     "output_type": "stream",
     "text": [
      "/tmp/ipykernel_2883296/1908635272.py:1: FutureWarning: Series.__getitem__ treating keys as positions is deprecated. In a future version, integer keys will always be treated as labels (consistent with DataFrame behavior). To access a value by position, use `ser.iloc[pos]`\n",
      "  df.iloc[2000][1]\n"
     ]
    },
    {
     "data": {
      "text/plain": [
       "array([0, 0, 0, 0, 0, 0, 0, 0, 0, 0, 1, 0, 1, 0, 0, 0, 0, 0, 0, 0, 0])"
      ]
     },
     "execution_count": 6,
     "metadata": {},
     "output_type": "execute_result"
    }
   ],
   "source": [
    "df.iloc[2000][1]"
   ]
  },
  {
   "cell_type": "code",
   "execution_count": 7,
   "metadata": {},
   "outputs": [
    {
     "name": "stdout",
     "output_type": "stream",
     "text": [
      "raw_text    object\n",
      "class       object\n",
      "dtype: object\n"
     ]
    }
   ],
   "source": [
    "# df['class'].value_counts()\n",
    "type(df['class'][1])\n",
    "# df['raw_text'] = df['raw_text'].astype(str)\n",
    "# df['class'] = df['class'].astype(float)\n",
    "print(df.dtypes)"
   ]
  },
  {
   "cell_type": "code",
   "execution_count": 8,
   "metadata": {},
   "outputs": [
    {
     "name": "stderr",
     "output_type": "stream",
     "text": [
      "/home/najo/.conda/envs/test_20240708/lib/python3.10/site-packages/transformers/tokenization_utils_base.py:1601: FutureWarning: `clean_up_tokenization_spaces` was not set. It will be set to `True` by default. This behavior will be depracted in transformers v4.45, and will be then set to `False` by default. For more details check this issue: https://github.com/huggingface/transformers/issues/31884\n",
      "  warnings.warn(\n",
      "Some weights of RobertaForSequenceClassification were not initialized from the model checkpoint at klue/roberta-large and are newly initialized: ['classifier.dense.bias', 'classifier.dense.weight', 'classifier.out_proj.bias', 'classifier.out_proj.weight']\n",
      "You should probably TRAIN this model on a down-stream task to be able to use it for predictions and inference.\n"
     ]
    }
   ],
   "source": [
    "# KLUE-RoBERTa 모델과 토크나이저 로드\n",
    "model_name = \"klue/roberta-large\"\n",
    "tokenizer = AutoTokenizer.from_pretrained(model_name)\n",
    "model = AutoModelForSequenceClassification.from_pretrained(model_name, num_labels=21, problem_type=\"multi_label_classification\")"
   ]
  },
  {
   "cell_type": "code",
   "execution_count": 9,
   "metadata": {},
   "outputs": [],
   "source": [
    "class CustomDataset(Dataset):\n",
    "    def __init__(self, data, tokenizer, max_len):\n",
    "        self.data = data\n",
    "        self.tokenizer = tokenizer\n",
    "        self.max_len = max_len\n",
    "\n",
    "    def __len__(self):\n",
    "        return len(self.data)\n",
    "\n",
    "    def __getitem__(self, index):\n",
    "        text = self.data.iloc[index, 0]\n",
    "        label = self.data.iloc[index, 1]\n",
    "        encoding = self.tokenizer.encode_plus(\n",
    "            text,\n",
    "            add_special_tokens=True,\n",
    "            max_length=self.max_len,\n",
    "            padding='max_length',\n",
    "            truncation=True,\n",
    "            return_attention_mask=True,\n",
    "            return_tensors='pt'\n",
    "        )\n",
    "        return {\n",
    "            'input_ids': encoding['input_ids'].flatten(),\n",
    "            'attention_mask': encoding['attention_mask'].flatten(),\n",
    "            'labels': torch.tensor(label, dtype=torch.float)\n",
    "        }\n",
    "\n",
    "max_len = 128\n",
    "train_dataset = CustomDataset(df, tokenizer, max_len)\n"
   ]
  },
  {
   "cell_type": "code",
   "execution_count": 10,
   "metadata": {},
   "outputs": [
    {
     "data": {
      "text/plain": [
       "{'input_ids': tensor([    0,  4096,  2170,  2318,  2112,  8174,  7658,  2047,  2145,  4740,\n",
       "          4053,  5076,  5160,  2530,  2145,  7658,  2530,  2069,  3986,  2205,\n",
       "          2067,  2414,  4267,  2098,  2073,  1545,  2116,  2227,  2540,  2444,\n",
       "          3804,  2052,   859,  2015,  2138,  4156,  3011,  2219,  3606,  4096,\n",
       "          2678,  2112,  2259,  1535,  2170,  2318,  4408,  7796,  2069,  4735,\n",
       "          2205,  3011,  2088,  1535,  2259,  4885,  4622,    25, 18458,  3797,\n",
       "          5868,  7193,  1537,  3610,  4709,  4408,  3815,  2069,  1889,  2507,\n",
       "          2219,  3606,  8345,  3644,  1535,  2259,  7658,  2047,  2145,  4740,\n",
       "          2526,  2069, 12535,  1295,  1513,  2359,  2219,  3606,     2,     1,\n",
       "             1,     1,     1,     1,     1,     1,     1,     1,     1,     1,\n",
       "             1,     1,     1,     1,     1,     1,     1,     1,     1,     1,\n",
       "             1,     1,     1,     1,     1,     1,     1,     1,     1,     1,\n",
       "             1,     1,     1,     1,     1,     1,     1,     1]),\n",
       " 'attention_mask': tensor([1, 1, 1, 1, 1, 1, 1, 1, 1, 1, 1, 1, 1, 1, 1, 1, 1, 1, 1, 1, 1, 1, 1, 1,\n",
       "         1, 1, 1, 1, 1, 1, 1, 1, 1, 1, 1, 1, 1, 1, 1, 1, 1, 1, 1, 1, 1, 1, 1, 1,\n",
       "         1, 1, 1, 1, 1, 1, 1, 1, 1, 1, 1, 1, 1, 1, 1, 1, 1, 1, 1, 1, 1, 1, 1, 1,\n",
       "         1, 1, 1, 1, 1, 1, 1, 1, 1, 1, 1, 1, 1, 1, 1, 1, 1, 0, 0, 0, 0, 0, 0, 0,\n",
       "         0, 0, 0, 0, 0, 0, 0, 0, 0, 0, 0, 0, 0, 0, 0, 0, 0, 0, 0, 0, 0, 0, 0, 0,\n",
       "         0, 0, 0, 0, 0, 0, 0, 0]),\n",
       " 'labels': tensor([0., 0., 0., 0., 0., 0., 0., 0., 0., 0., 0., 0., 1., 0., 0., 0., 0., 0.,\n",
       "         0., 0., 0.])}"
      ]
     },
     "execution_count": 10,
     "metadata": {},
     "output_type": "execute_result"
    }
   ],
   "source": [
    "next(iter(train_dataset))"
   ]
  },
  {
   "cell_type": "code",
   "execution_count": 11,
   "metadata": {},
   "outputs": [
    {
     "name": "stderr",
     "output_type": "stream",
     "text": [
      "/home/najo/.conda/envs/test_20240708/lib/python3.10/site-packages/transformers/optimization.py:591: FutureWarning: This implementation of AdamW is deprecated and will be removed in a future version. Use the PyTorch implementation torch.optim.AdamW instead, or set `no_deprecation_warning=True` to disable this warning\n",
      "  warnings.warn(\n"
     ]
    },
    {
     "ename": "KeyboardInterrupt",
     "evalue": "",
     "output_type": "error",
     "traceback": [
      "\u001b[0;31m---------------------------------------------------------------------------\u001b[0m",
      "\u001b[0;31mKeyboardInterrupt\u001b[0m                         Traceback (most recent call last)",
      "Cell \u001b[0;32mIn[11], line 63\u001b[0m\n\u001b[1;32m     61\u001b[0m \u001b[38;5;28;01mfor\u001b[39;00m epoch \u001b[38;5;129;01min\u001b[39;00m \u001b[38;5;28mrange\u001b[39m(epochs):\n\u001b[1;32m     62\u001b[0m     \u001b[38;5;28;01mif\u001b[39;00m epoch \u001b[38;5;241m%\u001b[39m \u001b[38;5;241m5\u001b[39m \u001b[38;5;241m==\u001b[39m \u001b[38;5;241m0\u001b[39m:\n\u001b[0;32m---> 63\u001b[0m         train_loss \u001b[38;5;241m=\u001b[39m \u001b[43mtrain_epoch\u001b[49m\u001b[43m(\u001b[49m\u001b[43mmodel\u001b[49m\u001b[43m,\u001b[49m\u001b[43m \u001b[49m\u001b[43mtrain_loader\u001b[49m\u001b[43m,\u001b[49m\u001b[43m \u001b[49m\u001b[43moptimizer\u001b[49m\u001b[43m,\u001b[49m\u001b[43m \u001b[49m\u001b[43mdevice\u001b[49m\u001b[43m)\u001b[49m\n\u001b[1;32m     64\u001b[0m         \u001b[38;5;28mprint\u001b[39m(\u001b[38;5;124mf\u001b[39m\u001b[38;5;124m\"\u001b[39m\u001b[38;5;124mEpoch \u001b[39m\u001b[38;5;132;01m{\u001b[39;00mepoch\u001b[38;5;250m \u001b[39m\u001b[38;5;241m+\u001b[39m\u001b[38;5;250m \u001b[39m\u001b[38;5;241m1\u001b[39m\u001b[38;5;132;01m}\u001b[39;00m\u001b[38;5;124m/\u001b[39m\u001b[38;5;132;01m{\u001b[39;00mepochs\u001b[38;5;132;01m}\u001b[39;00m\u001b[38;5;124m, Loss: \u001b[39m\u001b[38;5;132;01m{\u001b[39;00mtrain_loss\u001b[38;5;132;01m}\u001b[39;00m\u001b[38;5;124m\"\u001b[39m)\n\u001b[1;32m     66\u001b[0m         \u001b[38;5;66;03m# 손실이 이전 손실보다 작으면 모델 저장\u001b[39;00m\n",
      "Cell \u001b[0;32mIn[11], line 27\u001b[0m, in \u001b[0;36mtrain_epoch\u001b[0;34m(model, data_loader, optimizer, device)\u001b[0m\n\u001b[1;32m     23\u001b[0m     loss \u001b[38;5;241m=\u001b[39m loss_fn(logits, labels)\n\u001b[1;32m     25\u001b[0m     total_loss \u001b[38;5;241m+\u001b[39m\u001b[38;5;241m=\u001b[39m loss\u001b[38;5;241m.\u001b[39mitem()\n\u001b[0;32m---> 27\u001b[0m     \u001b[43mloss\u001b[49m\u001b[38;5;241;43m.\u001b[39;49m\u001b[43mbackward\u001b[49m\u001b[43m(\u001b[49m\u001b[43m)\u001b[49m\n\u001b[1;32m     28\u001b[0m     optimizer\u001b[38;5;241m.\u001b[39mstep()\n\u001b[1;32m     30\u001b[0m \u001b[38;5;28;01mreturn\u001b[39;00m total_loss \u001b[38;5;241m/\u001b[39m \u001b[38;5;28mlen\u001b[39m(data_loader)\n",
      "File \u001b[0;32m~/.conda/envs/test_20240708/lib/python3.10/site-packages/torch/_tensor.py:521\u001b[0m, in \u001b[0;36mTensor.backward\u001b[0;34m(self, gradient, retain_graph, create_graph, inputs)\u001b[0m\n\u001b[1;32m    511\u001b[0m \u001b[38;5;28;01mif\u001b[39;00m has_torch_function_unary(\u001b[38;5;28mself\u001b[39m):\n\u001b[1;32m    512\u001b[0m     \u001b[38;5;28;01mreturn\u001b[39;00m handle_torch_function(\n\u001b[1;32m    513\u001b[0m         Tensor\u001b[38;5;241m.\u001b[39mbackward,\n\u001b[1;32m    514\u001b[0m         (\u001b[38;5;28mself\u001b[39m,),\n\u001b[0;32m   (...)\u001b[0m\n\u001b[1;32m    519\u001b[0m         inputs\u001b[38;5;241m=\u001b[39minputs,\n\u001b[1;32m    520\u001b[0m     )\n\u001b[0;32m--> 521\u001b[0m \u001b[43mtorch\u001b[49m\u001b[38;5;241;43m.\u001b[39;49m\u001b[43mautograd\u001b[49m\u001b[38;5;241;43m.\u001b[39;49m\u001b[43mbackward\u001b[49m\u001b[43m(\u001b[49m\n\u001b[1;32m    522\u001b[0m \u001b[43m    \u001b[49m\u001b[38;5;28;43mself\u001b[39;49m\u001b[43m,\u001b[49m\u001b[43m \u001b[49m\u001b[43mgradient\u001b[49m\u001b[43m,\u001b[49m\u001b[43m \u001b[49m\u001b[43mretain_graph\u001b[49m\u001b[43m,\u001b[49m\u001b[43m \u001b[49m\u001b[43mcreate_graph\u001b[49m\u001b[43m,\u001b[49m\u001b[43m \u001b[49m\u001b[43minputs\u001b[49m\u001b[38;5;241;43m=\u001b[39;49m\u001b[43minputs\u001b[49m\n\u001b[1;32m    523\u001b[0m \u001b[43m\u001b[49m\u001b[43m)\u001b[49m\n",
      "File \u001b[0;32m~/.conda/envs/test_20240708/lib/python3.10/site-packages/torch/autograd/__init__.py:289\u001b[0m, in \u001b[0;36mbackward\u001b[0;34m(tensors, grad_tensors, retain_graph, create_graph, grad_variables, inputs)\u001b[0m\n\u001b[1;32m    284\u001b[0m     retain_graph \u001b[38;5;241m=\u001b[39m create_graph\n\u001b[1;32m    286\u001b[0m \u001b[38;5;66;03m# The reason we repeat the same comment below is that\u001b[39;00m\n\u001b[1;32m    287\u001b[0m \u001b[38;5;66;03m# some Python versions print out the first line of a multi-line function\u001b[39;00m\n\u001b[1;32m    288\u001b[0m \u001b[38;5;66;03m# calls in the traceback and some print out the last line\u001b[39;00m\n\u001b[0;32m--> 289\u001b[0m \u001b[43m_engine_run_backward\u001b[49m\u001b[43m(\u001b[49m\n\u001b[1;32m    290\u001b[0m \u001b[43m    \u001b[49m\u001b[43mtensors\u001b[49m\u001b[43m,\u001b[49m\n\u001b[1;32m    291\u001b[0m \u001b[43m    \u001b[49m\u001b[43mgrad_tensors_\u001b[49m\u001b[43m,\u001b[49m\n\u001b[1;32m    292\u001b[0m \u001b[43m    \u001b[49m\u001b[43mretain_graph\u001b[49m\u001b[43m,\u001b[49m\n\u001b[1;32m    293\u001b[0m \u001b[43m    \u001b[49m\u001b[43mcreate_graph\u001b[49m\u001b[43m,\u001b[49m\n\u001b[1;32m    294\u001b[0m \u001b[43m    \u001b[49m\u001b[43minputs\u001b[49m\u001b[43m,\u001b[49m\n\u001b[1;32m    295\u001b[0m \u001b[43m    \u001b[49m\u001b[43mallow_unreachable\u001b[49m\u001b[38;5;241;43m=\u001b[39;49m\u001b[38;5;28;43;01mTrue\u001b[39;49;00m\u001b[43m,\u001b[49m\n\u001b[1;32m    296\u001b[0m \u001b[43m    \u001b[49m\u001b[43maccumulate_grad\u001b[49m\u001b[38;5;241;43m=\u001b[39;49m\u001b[38;5;28;43;01mTrue\u001b[39;49;00m\u001b[43m,\u001b[49m\n\u001b[1;32m    297\u001b[0m \u001b[43m\u001b[49m\u001b[43m)\u001b[49m\n",
      "File \u001b[0;32m~/.conda/envs/test_20240708/lib/python3.10/site-packages/torch/autograd/graph.py:769\u001b[0m, in \u001b[0;36m_engine_run_backward\u001b[0;34m(t_outputs, *args, **kwargs)\u001b[0m\n\u001b[1;32m    767\u001b[0m     unregister_hooks \u001b[38;5;241m=\u001b[39m _register_logging_hooks_on_whole_graph(t_outputs)\n\u001b[1;32m    768\u001b[0m \u001b[38;5;28;01mtry\u001b[39;00m:\n\u001b[0;32m--> 769\u001b[0m     \u001b[38;5;28;01mreturn\u001b[39;00m \u001b[43mVariable\u001b[49m\u001b[38;5;241;43m.\u001b[39;49m\u001b[43m_execution_engine\u001b[49m\u001b[38;5;241;43m.\u001b[39;49m\u001b[43mrun_backward\u001b[49m\u001b[43m(\u001b[49m\u001b[43m  \u001b[49m\u001b[38;5;66;43;03m# Calls into the C++ engine to run the backward pass\u001b[39;49;00m\n\u001b[1;32m    770\u001b[0m \u001b[43m        \u001b[49m\u001b[43mt_outputs\u001b[49m\u001b[43m,\u001b[49m\u001b[43m \u001b[49m\u001b[38;5;241;43m*\u001b[39;49m\u001b[43margs\u001b[49m\u001b[43m,\u001b[49m\u001b[43m \u001b[49m\u001b[38;5;241;43m*\u001b[39;49m\u001b[38;5;241;43m*\u001b[39;49m\u001b[43mkwargs\u001b[49m\n\u001b[1;32m    771\u001b[0m \u001b[43m    \u001b[49m\u001b[43m)\u001b[49m  \u001b[38;5;66;03m# Calls into the C++ engine to run the backward pass\u001b[39;00m\n\u001b[1;32m    772\u001b[0m \u001b[38;5;28;01mfinally\u001b[39;00m:\n\u001b[1;32m    773\u001b[0m     \u001b[38;5;28;01mif\u001b[39;00m attach_logging_hooks:\n",
      "\u001b[0;31mKeyboardInterrupt\u001b[0m: "
     ]
    }
   ],
   "source": [
    "# 데이터 로더 설정\n",
    "train_loader = DataLoader(train_dataset, batch_size=128, shuffle=True)\n",
    "    \n",
    "# BCEWithLogitsLoss 설정 (multi-label classification용)\n",
    "loss_fn = nn.BCEWithLogitsLoss()\n",
    "\n",
    "# 모델 학습 함수\n",
    "def train_epoch(model, data_loader, optimizer, device):\n",
    "    model = model.train()\n",
    "    total_loss = 0\n",
    "    for batch in data_loader:\n",
    "        optimizer.zero_grad()\n",
    "        \n",
    "        input_ids = batch['input_ids'].to(device)\n",
    "        attention_mask = batch['attention_mask'].to(device)\n",
    "        labels = batch['labels'].float().to(device)  # 레이블을 float형으로 변환 (필수)\n",
    "\n",
    "        # 모델의 출력에서 loss 추출\n",
    "        outputs = model(input_ids=input_ids, attention_mask=attention_mask)\n",
    "        logits = outputs.logits\n",
    "\n",
    "        # loss 계산\n",
    "        loss = loss_fn(logits, labels)\n",
    "        \n",
    "        total_loss += loss.item()\n",
    "        \n",
    "        loss.backward()\n",
    "        optimizer.step()\n",
    "    \n",
    "    return total_loss / len(data_loader)\n",
    "\n",
    "# 모델 저장 함수 (DataParallel 지원)\n",
    "def save_model(model, optimizer, epoch, loss, file_name):\n",
    "    save_path = f\"/home/najo/NAS/ONLAB/ONLAB_Competency/Saved_model/{file_name}.pth\"\n",
    "    \n",
    "    # DataParallel로 감싸져 있는 모델을 저장할 때는 model.module로 접근\n",
    "    if isinstance(model, torch.nn.DataParallel):\n",
    "        model_to_save = model.module\n",
    "    else:\n",
    "        model_to_save = model\n",
    "    \n",
    "    torch.save({\n",
    "        'epoch': epoch,\n",
    "        'model_state_dict': model_to_save.state_dict(),\n",
    "        'optimizer_state_dict': optimizer.state_dict(),\n",
    "        'loss': loss,\n",
    "    }, save_path)\n",
    "    \n",
    "    print(f\"Model saved as {save_path}\")\n",
    "\n",
    "# GPU 설정\n",
    "model = model.to(device)\n",
    "model = nn.DataParallel(model)\n",
    "\n",
    "# 옵티마이저 설정\n",
    "optimizer = AdamW(model.parameters(), lr=5e-5)\n",
    "\n",
    "# 학습 루프\n",
    "epochs = 100\n",
    "best_loss = float('inf')  # 최소 손실을 추적하기 위한 변수\n",
    "for epoch in range(epochs):\n",
    "    if epoch % 5 == 0:\n",
    "        train_loss = train_epoch(model, train_loader, optimizer, device)\n",
    "        print(f\"Epoch {epoch + 1}/{epochs}, Loss: {train_loss}\")\n",
    "\n",
    "        # 손실이 이전 손실보다 작으면 모델 저장\n",
    "        if train_loss < best_loss:\n",
    "            best_loss = train_loss\n",
    "            # 손실 값을 파일명에 포함, 소수점 5자리까지 사용\n",
    "            file_name = f\"model_loss_{best_loss:.5f}\"\n",
    "            save_model(model, optimizer, epoch, best_loss, file_name)\n",
    "    else:\n",
    "        pass\n"
   ]
  },
  {
   "cell_type": "code",
   "execution_count": 12,
   "metadata": {},
   "outputs": [
    {
     "name": "stdout",
     "output_type": "stream",
     "text": [
      "Best model found: model_loss_0.01375.pth with loss 0.01375\n"
     ]
    },
    {
     "name": "stderr",
     "output_type": "stream",
     "text": [
      "/tmp/ipykernel_2883296/3691781199.py:45: FutureWarning: You are using `torch.load` with `weights_only=False` (the current default value), which uses the default pickle module implicitly. It is possible to construct malicious pickle data which will execute arbitrary code during unpickling (See https://github.com/pytorch/pytorch/blob/main/SECURITY.md#untrusted-models for more details). In a future release, the default value for `weights_only` will be flipped to `True`. This limits the functions that could be executed during unpickling. Arbitrary objects will no longer be allowed to be loaded via this mode unless they are explicitly allowlisted by the user via `torch.serialization.add_safe_globals`. We recommend you start setting `weights_only=True` for any use case where you don't have full control of the loaded file. Please open an issue on GitHub for any issues related to this experimental feature.\n",
      "  checkpoint = torch.load(file_path)\n"
     ]
    },
    {
     "name": "stdout",
     "output_type": "stream",
     "text": [
      "Loaded model from /home/najo/NAS/ONLAB/ONLAB_Competency/Saved_model/model_loss_0.01375.pth, Epoch: 95, Loss: 0.01375\n",
      "Validation Loss: 0.0106, F1-Score: 0.9341\n"
     ]
    },
    {
     "name": "stderr",
     "output_type": "stream",
     "text": [
      "/home/najo/.conda/envs/test_20240708/lib/python3.10/site-packages/sklearn/metrics/_classification.py:1531: UndefinedMetricWarning: F-score is ill-defined and being set to 0.0 in labels with no true nor predicted samples. Use `zero_division` parameter to control this behavior.\n",
      "  _warn_prf(average, modifier, f\"{metric.capitalize()} is\", len(result))\n"
     ]
    }
   ],
   "source": [
    "from sklearn.metrics import f1_score\n",
    "\n",
    "# BCEWithLogitsLoss 설정\n",
    "loss_fn = nn.BCEWithLogitsLoss()\n",
    "\n",
    "# 평가 함수 (multi-label classification에 맞게 수정)\n",
    "def eval_model(model, data_loader, device):\n",
    "    model = model.eval()\n",
    "    total_loss = 0\n",
    "    all_predictions = []\n",
    "    all_true_labels = []\n",
    "    \n",
    "    with torch.no_grad():\n",
    "        for batch in data_loader:\n",
    "            input_ids = batch['input_ids'].to(device)\n",
    "            attention_mask = batch['attention_mask'].to(device)\n",
    "            labels = batch['labels'].float().to(device)  # 레이블을 float으로 변환\n",
    "            \n",
    "            outputs = model(input_ids=input_ids, attention_mask=attention_mask)\n",
    "            logits = outputs.logits\n",
    "            \n",
    "            # 시그모이드 적용하여 각 클래스에 대한 확률을 계산\n",
    "            probs = torch.sigmoid(logits)\n",
    "            \n",
    "            # 특정 기준(예: 0.5)을 넘으면 1로 예측\n",
    "            preds = (probs > 0.5).float()\n",
    "\n",
    "            # 손실 계산\n",
    "            loss = loss_fn(logits, labels)\n",
    "            total_loss += loss.item()\n",
    "            \n",
    "            all_predictions.append(preds.cpu().numpy())\n",
    "            all_true_labels.append(labels.cpu().numpy())\n",
    "\n",
    "    # 평가 지표 계산 (여기서는 F1-Score를 사용)\n",
    "    all_predictions = np.vstack(all_predictions)\n",
    "    all_true_labels = np.vstack(all_true_labels)\n",
    "    \n",
    "    f1 = f1_score(all_true_labels, all_predictions, average='macro')  # 매크로 F1 스코어 사용\n",
    "    \n",
    "    return total_loss / len(data_loader), f1\n",
    "\n",
    "# 저장된 모델 불러오기 함수\n",
    "def load_best_model(model, optimizer, device, file_path):\n",
    "    checkpoint = torch.load(file_path)\n",
    "    \n",
    "    # DataParallel로 감싸진 경우에도 model.module로 저장되었는지 확인\n",
    "    if isinstance(model, torch.nn.DataParallel):\n",
    "        model.module.load_state_dict(checkpoint['model_state_dict'])\n",
    "    else:\n",
    "        model.load_state_dict(checkpoint['model_state_dict'])\n",
    "    \n",
    "    optimizer.load_state_dict(checkpoint['optimizer_state_dict'])\n",
    "    epoch = checkpoint['epoch']\n",
    "    loss = checkpoint['loss']\n",
    "    \n",
    "    model = model.to(device)  # 모델을 다시 GPU로 보냄\n",
    "    print(f\"Loaded model from {file_path}, Epoch: {epoch}, Loss: {loss:.5f}\")\n",
    "    \n",
    "    return model, optimizer\n",
    "\n",
    "# 저장된 모델 파일 중에서 가장 작은 손실 값을 가진 모델 파일을 찾는 함수\n",
    "def find_best_model_file(model_dir):\n",
    "    best_loss = float('inf')\n",
    "    best_model_file = None\n",
    "    \n",
    "    # 모델 파일명을 탐색하고, 손실값이 포함된 파일명을 파싱하여 최소 손실값을 찾음\n",
    "    for file_name in os.listdir(model_dir):\n",
    "        if file_name.endswith(\".pth\"):\n",
    "            # 파일명에서 손실 값을 추출 (예: model_loss_0.12345.pth에서 0.12345 추출)\n",
    "            match = re.search(r'model_loss_([\\d.]+)\\.pth', file_name)\n",
    "            if match:\n",
    "                loss = float(match.group(1))\n",
    "                if loss < best_loss:\n",
    "                    best_loss = loss\n",
    "                    best_model_file = file_name\n",
    "    \n",
    "    if best_model_file:\n",
    "        print(f\"Best model found: {best_model_file} with loss {best_loss:.5f}\")\n",
    "    else:\n",
    "        print(\"No valid model files found.\")\n",
    "    \n",
    "    return best_model_file\n",
    "\n",
    "# 저장된 최적의 모델 불러오기 및 평가 함수는 그대로\n",
    "def evaluate_best_model(model, optimizer, data_loader, device, model_dir):\n",
    "    best_model_file = find_best_model_file(model_dir)\n",
    "    \n",
    "    if best_model_file:\n",
    "        file_path = os.path.join(model_dir, best_model_file)\n",
    "        model, optimizer = load_best_model(model, optimizer, device, file_path)\n",
    "        \n",
    "        # 모델 평가\n",
    "        val_loss, val_f1 = eval_model(model, data_loader, device)\n",
    "        print(f'Validation Loss: {val_loss:.4f}, F1-Score: {val_f1:.4f}')\n",
    "    else:\n",
    "        print(\"No model file to evaluate.\")\n",
    "\n",
    "# 검증 데이터 로더로 변경하는 것이 일반적\n",
    "best_model_path = \"/home/najo/NAS/ONLAB/ONLAB_Competency/Saved_model\"\n",
    "\n",
    "# 학습 후 검증 데이터 평가\n",
    "evaluate_best_model(model, optimizer, train_loader, device, best_model_path)  # 평가할 때는 val_loader 사용을 권장\n"
   ]
  },
  {
   "cell_type": "code",
   "execution_count": 14,
   "metadata": {},
   "outputs": [
    {
     "name": "stdout",
     "output_type": "stream",
     "text": [
      "Best model found: model_loss_0.01375.pth with loss 0.01375\n"
     ]
    },
    {
     "name": "stderr",
     "output_type": "stream",
     "text": [
      "/tmp/ipykernel_2883296/3691781199.py:45: FutureWarning: You are using `torch.load` with `weights_only=False` (the current default value), which uses the default pickle module implicitly. It is possible to construct malicious pickle data which will execute arbitrary code during unpickling (See https://github.com/pytorch/pytorch/blob/main/SECURITY.md#untrusted-models for more details). In a future release, the default value for `weights_only` will be flipped to `True`. This limits the functions that could be executed during unpickling. Arbitrary objects will no longer be allowed to be loaded via this mode unless they are explicitly allowlisted by the user via `torch.serialization.add_safe_globals`. We recommend you start setting `weights_only=True` for any use case where you don't have full control of the loaded file. Please open an issue on GitHub for any issues related to this experimental feature.\n",
      "  checkpoint = torch.load(file_path)\n"
     ]
    },
    {
     "name": "stdout",
     "output_type": "stream",
     "text": [
      "Loaded model from /home/najo/NAS/ONLAB/ONLAB_Competency/Saved_model/model_loss_0.01375.pth, Epoch: 95, Loss: 0.01375\n",
      "Predicted Class: [[0. 0. 0. 0. 1. 0. 0. 0. 0. 1. 1. 0. 0. 0. 0. 0. 1. 0. 0. 1. 0.]]\n"
     ]
    }
   ],
   "source": [
    "# 새로운 텍스트에 대해 예측 함수 (저장된 모델을 불러와 예측)\n",
    "def predict(text, model, tokenizer, max_len, device, model_dir):\n",
    "    # 가장 낮은 loss 값을 가진 모델 파일 찾기\n",
    "    best_model_file = find_best_model_file(model_dir)\n",
    "    \n",
    "    if best_model_file is None:\n",
    "        raise ValueError(\"No valid model file found.\")\n",
    "    \n",
    "    model_path = os.path.join(model_dir, best_model_file)\n",
    "    \n",
    "    # 모델을 저장된 상태로 불러오기\n",
    "    optimizer = torch.optim.AdamW(model.parameters(), lr=2e-5)  # 옵티마이저 임시 생성\n",
    "    model, optimizer = load_best_model(model, optimizer, device, model_path)\n",
    "\n",
    "    # 입력 텍스트를 토크나이저로 인코딩\n",
    "    encoding = tokenizer.encode_plus(\n",
    "        text,\n",
    "        add_special_tokens=True,\n",
    "        max_length=max_len,\n",
    "        padding='max_length',\n",
    "        truncation=True,\n",
    "        return_attention_mask=True,\n",
    "        return_tensors='pt'\n",
    "    )\n",
    "    \n",
    "    input_ids = encoding['input_ids'].to(device)\n",
    "    attention_mask = encoding['attention_mask'].to(device)\n",
    "    \n",
    "    model.eval()\n",
    "    with torch.no_grad():\n",
    "        outputs = model(input_ids=input_ids, attention_mask=attention_mask)\n",
    "        logits = outputs.logits\n",
    "        \n",
    "        # 멀티 라벨 분류에서는 시그모이드 함수 적용 후, 임계값 기준으로 0/1 결정\n",
    "        probs = torch.sigmoid(logits)\n",
    "        preds = (probs > 0.5).float()  # 0.5 이상의 확률을 가진 경우 1로 예측\n",
    "    \n",
    "    return preds.cpu().numpy()  # 예측된 결과를 numpy 배열로 변환\n",
    "\n",
    "# 예측 사용 예시\n",
    "sample_text1 = \"기재한 역량 및 기술 중 한 가지 이상을 선택하고 그러한 역량 및 기술을 적극적으로 활용했던 경험 또는 이를 습득하기까지의 과정을 기술하여 주십시오.\\n\\n\\\"업무 추진력의 바탕 : 세밀한 기획\\\"\\n\\n인문학 교실을 기획하고 운영하는 프로그램 당시, 일정이 바뀌어 인턴십이 겹치고 하차 인원이 생겨 인력, 시간이 부족했고 이를 극복하기 위해 다음과 같이 행동했습니다.\\n\\n첫째, 진행된 과제 상황을 파악하고 앞으로 해야 할 일과 사용 가능한 시간을 리스트로 만들었습니다. 그리고 우선순위에 따라 시간을 배분한 후 추가적으로 필요한 시간을 확인했습니다.\\n\\n둘째, 불필요한 업무 프로세스를 개선해 부족한 시간을 확보했습니다. 반복되는 자료와 문서는 형상관리를 이용해 재사용할 수 있도록 했습니다.\\n\\n셋째, 또 다른 일정 변동에 대비해 강의자를 2인 1조로 구성했고, 수업을 하는 동안 강의록을 작성해 최종 보고서 작성 시간도 줄일 수 있었습니다.\"\n",
    "sample_text2 = \"\\\"사람을 향하는 기술\\\"\\n삼성전자는 항상 혁신을 이뤄왔으며 우리나라를 대표할 뿐만 아니라 글로벌 기업으로 인정받고 있습니다. 이러한 입지는 결국 삼성전자가 많은 사람에게 선택받았다는 방증이기도 합니다. 즉, 사용자를 위한 제품을 꾸준히 개발하고 사용자를 위한 방향으로 기술을 발전시켜나가고 있다고 생각했습니다.\\n\\n저도 사람을 향하는 서비스를 만드는 개발자가 되고 싶습니다. 프로젝트를 하면서 가장 어려웠던 부분은 항상 주제를 정하는 것이었습니다. 그동안은 뭘 만들까가 아니라 어떤 기술을 이용해서 만들까에 초점을 맞췄기 때문에 이러한 어려움이 있었습니다. 하지만 졸업 프로젝트를 할 때는 처음으로 사용자 관점에서 생각하여 프로젝트를 진행하게 되었습니다.\\n사용자는 다양하고 그들의 필요한 부분도 다양할 것입니다. 하지만 결국 필요한 부분이라면, 놓치지 않고 그 필요를 충족시키는 서비스를 개발하고 싶습니다. 더 나아가 약자도 소외되지 않는, 기술로 인해 소외되는 사람이 없는 그런 서비스를 만들어가고 싶습니다.\"\n",
    "sample_text3 = \"**즐거움과 열정을 갖고 배울 수 있는 개발자**\\n\\n대학생 때 자바를 접한 후 처음에는 취업을 위해 여러 활동을 해 보았습니다.\\n그러던 중 그동안 배운 내용들을 토대로 코드를 한 땀 한 땀 짜면서 프로젝트를 진행해 보았는데, 원하는 결과물을 하나씩 만들 수 있다는 것이 인상 깊었습니다.\\n이후로 강의를 듣거나 지식을 쌓은 후 다시 코드를 수정하면서 같은 결과여도 다른 방식이 있을 수 있고, 그 코드를 잘 만들어 내는 것의 중요성을 알았습니다.\\n그렇게 하나의 결과물을 만들기 위한 많은 길이 존재하며, 어떤 식으로 구현하는지에 따라 성능을 향상시킬 수 있다는 것을 알게 된 후 계속해서 이를 배워나가 최고의 실력을 갖고 싶다는 마음을 가지게 되었습니다.\\n\\n그리고 운이 좋게도 이런 마음가짐을 갖게 되자, 개발 자체가 재미있어졌고 단순히 공부나 일이 아닌, 취미로서 즐길 수 있게 되었습니다.\\n좋아하는 것에 있어서 잘 하고 싶고, 완벽해지고 싶어 하는 성미이기에 개발에 취미를 갖게 된 이후 지금까지 끊임없이 노력할 수 있었습니다.\\n앞으로도 개발자로서 제가 가진 열정이라는 원동력을 놓치지 않고, 더욱 발전해 나가겠습니다.\"\n",
    "# label \"5,11,10,17,20\"\n",
    "re_sample_text = re.sub(r\"[^\\uAC00-\\uD7A30-9a-zA-Z\\s]\", \"\", sample_text3)\n",
    "\n",
    "# 저장된 모델 경로를 사용해 예측\n",
    "predicted_class = predict(re_sample_text, model, tokenizer, max_len, device, best_model_path)\n",
    "print(f\"Predicted Class: {predicted_class}\")\n"
   ]
  },
  {
   "cell_type": "code",
   "execution_count": 12,
   "metadata": {},
   "outputs": [
    {
     "name": "stdout",
     "output_type": "stream",
     "text": [
      "Class mention counts (sorted by count):\n",
      "Class 6: 2024\n",
      "Class 11: 1867\n",
      "Class 14: 1568\n",
      "Class 17: 1398\n",
      "Class 12: 1008\n",
      "Class 5: 1000\n",
      "Class 15: 998\n",
      "Class 16: 990\n",
      "Class 7: 934\n",
      "Class 13: 784\n",
      "Class 10: 761\n",
      "Class 2: 652\n",
      "Class 3: 579\n",
      "Class 4: 494\n",
      "Class 1: 370\n",
      "Class 20: 345\n",
      "Class 18: 218\n",
      "Class 8: 206\n",
      "Class 9: 201\n",
      "Class 19: 134\n",
      "Class 21: 129\n",
      "Total number of class mentions: 16660\n"
     ]
    }
   ],
   "source": [
    "index_count = []\n",
    "classes = []\n",
    "\n",
    "# List of classes to exclude\n",
    "exclude_classes = {' ', ''}  # Use a set for faster lookups\n",
    "\n",
    "# Assuming file_name is a list of filenames and file_path is the directory where these files are stored\n",
    "for i in file_name:\n",
    "    with open(os.path.join(file_path, i), 'r', encoding='utf-8') as file:  # Use 'r' mode for reading text files\n",
    "        data = json.load(file)\n",
    "        \n",
    "        # Step 1: Extract class mentions\n",
    "        for entry in data['anno_text_data']['data']:\n",
    "            # Filter out classes that should be excluded\n",
    "            classes.extend([cls for cls in entry['class'].split(',') if cls not in exclude_classes])\n",
    "\n",
    "# Step 2: Count occurrences of each class\n",
    "class_counts = Counter(classes)\n",
    "\n",
    "# Step 3: Calculate the total number of class mentions\n",
    "total_count = sum(class_counts.values())\n",
    "\n",
    "# Step 4: Display the results sorted by count in descending order\n",
    "print(\"Class mention counts (sorted by count):\")\n",
    "for class_id, count in sorted(class_counts.items(), key=lambda item: item[1], reverse=True):\n",
    "    print(f\"Class {class_id}: {count}\")\n",
    "\n",
    "# Print the total sum of all counts\n",
    "print(f\"Total number of class mentions: {total_count}\")\n"
   ]
  },
  {
   "cell_type": "code",
   "execution_count": 13,
   "metadata": {},
   "outputs": [
    {
     "data": {
      "image/png": "[encoded data removed]",
      "text/plain": [
       "<Figure size 1200x800 with 1 Axes>"
      ]
     },
     "metadata": {},
     "output_type": "display_data"
    }
   ],
   "source": [
    "# Sort by count in descending order\n",
    "sorted_class_counts = sorted(class_counts.items(), key=lambda item: item[1], reverse=True)\n",
    "\n",
    "# Extract class IDs and counts for plotting\n",
    "class_ids, counts = zip(*sorted_class_counts)\n",
    "\n",
    "# Plotting the results\n",
    "plt.figure(figsize=(12, 8))\n",
    "plt.bar(class_ids, counts, color='skyblue')\n",
    "plt.xlabel('Class ID')\n",
    "plt.ylabel('Count')\n",
    "plt.title('Class Mention Counts (sorted by count)')\n",
    "plt.xticks(rotation=45)  # Rotate x-axis labels for better readability\n",
    "plt.show()"
   ]
  },
  {
   "cell_type": "code",
   "execution_count": 14,
   "metadata": {},
   "outputs": [
    {
     "name": "stdout",
     "output_type": "stream",
     "text": [
      "                Name  Index\n",
      "0            창의력을 가진      1\n",
      "1         유연한 사고를 가진      2\n",
      "2   데이터 기반의 의사결정을 하는      3\n",
      "3       다양한 의견을 수렴하는      4\n",
      "4        문제해결능력이 뛰어난      5\n",
      "5    탄탄한 의사소통 능력을 가진      6\n",
      "6       선한 영향력을 행사하는      7\n",
      "7          다양성을 존중하는      8\n",
      "8          신뢰를 주는 리더      9\n",
      "9            적응력이 높은     10\n",
      "10     지속적인 성장을 추구하는     11\n",
      "11          비전을 제시하는     12\n",
      "12     고도의 자기주도성을 가진     13\n",
      "13      비즈니스 마인드를 갖춘     14\n",
      "14       고도의 책임감을 가진     15\n",
      "15              적극적인     16\n",
      "16   목표를 달성하는 능력을 갖춘     17\n",
      "17    자원을 효율적으로 활용하는     18\n",
      "18     신속한 의사결정을 내리는     19\n",
      "19       긍정적인 태도를 갖춘     20\n",
      "20  위기 상황에서도 안정감을 주는     21\n"
     ]
    }
   ],
   "source": [
    "index  = pd.read_excel(\"/home/najo/NAS/ONLAB/ONLAB_Competency/keyword-index.xlsx\")\n",
    "\n",
    "print(index)"
   ]
  },
  {
   "cell_type": "code",
   "execution_count": null,
   "metadata": {},
   "outputs": [],
   "source": []
  }
 ],
 "metadata": {
  "kernelspec": {
   "display_name": "test_20240708",
   "language": "python",
   "name": "python3"
  },
  "language_info": {
   "codemirror_mode": {
    "name": "ipython",
    "version": 3
   },
   "file_extension": ".py",
   "mimetype": "text/x-python",
   "name": "python",
   "nbconvert_exporter": "python",
   "pygments_lexer": "ipython3",
   "version": "3.10.14"
  }
 },
 "nbformat": 4,
 "nbformat_minor": 2
}
